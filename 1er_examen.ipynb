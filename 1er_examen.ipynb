{
 "cells": [
  {
   "cell_type": "markdown",
   "id": "a2e3cde1",
   "metadata": {},
   "source": [
    "# 1er examen parcial\n",
    "\n",
    "### Tópicos Selectos De Matemáticas Aplicadas II: Análisis de Datos con Python\n",
    "\n",
    "#### 20 de junio de 2025"
   ]
  },
  {
   "cell_type": "markdown",
   "id": "938d12c3",
   "metadata": {},
   "source": [
    "### **Ejercicio 1. (20 puntos)**\n",
    "\n",
    "Se tiene un conjunto de datos $X = [x_1, x_2, \\dots, x_n]$. El proceso de estandarización **min-max** transforma cada valor $x_i$ al rango $[0, 1]$ mediante:\n",
    "\n",
    "$$\n",
    "z_i = \\frac{x_i - \\min(X)}{\\max(X) - \\min(X)}\n",
    "$$\n",
    "\n",
    "Una vez estandarizados, definimos el siguiente **índice de dispersión normalizado (IDN)**:\n",
    "\n",
    "$$\n",
    "\\text{IDN}(X) = \\frac{1}{n} \\sum_{i=1}^n \\left( z_i - \\bar{z} \\right)^2\n",
    "$$\n",
    "\n",
    "donde $\\bar{z}$ es el promedio del vector estandarizado $Z_X$.\n",
    "\n",
    "\n",
    "\n",
    " i) Implementa una función que:\n",
    "\n",
    "- Estandarice un vector $X$ usando la fórmula min-max.\n",
    "- Calcule el valor de $\\text{IDN}(X)$.\n",
    "\n",
    "\n",
    "ii) Usa tu función para calcular $\\text{IDN}(X)$ para:\n",
    "\n",
    "$$\n",
    "X = [12.4, 8.1, 15.7, 9.3, 14.8, 10.2, 11.6]\n",
    "$$\n",
    "\n",
    "\n",
    "\n",
    "iii) Compara el valor de $\\text{IDN}(X)$ con la **varianza normalizada** calculada directamente con `np.var()` en Python. ¿Coinciden los valores?\n",
    "\n"
   ]
  },
  {
   "cell_type": "markdown",
   "id": "42ce6a08",
   "metadata": {},
   "source": [
    "---"
   ]
  },
  {
   "cell_type": "markdown",
   "id": "1128f340",
   "metadata": {},
   "source": [
    "### **Ejercicio 2. (20 puntos)**\n",
    "\n",
    "Se tiene la siguiente relación entre las variables $x$, $y$ y $z$:\n",
    "\n",
    "$$\\sin(x+y) = \\tan (\\frac{e^{\\cos(x+y)}-\\ln(z)}{2}).$$\n",
    "\n",
    "   Visualice la función $z=f(x,y)$ en el dominio $[-10,10]\\times[-10,10]$, en el caso de que $x+y\\leq \\frac{1}{2}$, entonces $z=20$. Para este ejercicio evalue la función en una malla de 500 puntos en cada dirección. "
   ]
  },
  {
   "cell_type": "markdown",
   "id": "dc54403c-34a6-4738-a23f-6c459d6d501f",
   "metadata": {},
   "source": [
    "---"
   ]
  },
  {
   "cell_type": "markdown",
   "id": "f4e67a10",
   "metadata": {},
   "source": [
    "### **Ejercicio 3. (20 puntos)** \n",
    "\n",
    "Utilice los datos de los nacimientos por estado del 2020 al 2022 del repositorio en Github y realice lo siguiente:\n",
    "\n",
    "a) Obtenga un Dataframe que tenga como columnas el número de nacimientos de mujeres, el número de nacimientos de hombres y el número total de nacimientos por año durante el 2020 al 2022. Obtenga una gráfica de cada categoría.\n",
    "\n",
    "b) Agregue a los datos de nacimientos del 2020 la columna de población por estado y la tasa de nacimientos por cada mil habitantes. Gráfique la tasa de nacimientos por estado."
   ]
  },
  {
   "cell_type": "markdown",
   "id": "87e72054-6029-4ded-b2ef-d121c82567e3",
   "metadata": {},
   "source": [
    "---"
   ]
  },
  {
   "cell_type": "markdown",
   "id": "b63a23fd",
   "metadata": {},
   "source": [
    "### **Ejercicio 4. (20 puntos)**\n",
    "\n",
    "Guarde en un Dataframe los datos de los precios de las acciones de Tesla (*tesla.csv* en Github).\n",
    "\n",
    "El **retorno simple** mide el cambio porcentual entre el precio de un activo financiero en dos momentos consecutivos. Es útil para analizar la variación de precios, por ejemplo, el precio de cierre diario de una acción. Dado un precio de cierre $ P_t $ en el tiempo $ t $, el retorno simple se calcula como:\n",
    "\n",
    "$$\n",
    "r_t = \\frac{P_t - P_{t-1}}{P_{t-1}} = \\frac{P_t}{P_{t-1}} - 1\n",
    "$$\n",
    "\n",
    "donde:\n",
    "\n",
    "- $ r_t $: retorno simple en el tiempo $ t $,\n",
    "- $ P_t $: precio de cierre en el tiempo $ t $,\n",
    "- $ P_{t-1} $: precio de cierre en el tiempo anterior.\n",
    "\n",
    "\n",
    "a) Agregue la columna correspondiente a la serie de **retornos simples** (utilice la función *.pct_change()*) y elimine la primera fila del *DataFrame*.\n",
    "\n",
    "b) Grafique la serie de tiempo de los retornos simples y obtenga:\n",
    "- El retorno simple más alto,\n",
    "- El retorno simple más bajo,\n",
    "- Las fechas en que ocurrieron.\n",
    "\n",
    "c) Obtenga el histograma de frecuencia de la serie de retornos simples.  \n",
    "¿Estos se distribuyen normalmente? Justifique su respuesta calculando el coeficiente de asimetría, kurtosis y haciendo la prueba de Shapiro–Wilk.\n",
    "\n",
    "d) Genere las gráficas de caja por año de los precios de cierre.\n"
   ]
  },
  {
   "cell_type": "markdown",
   "id": "e6c19fd7-f1ef-4c7a-bce9-1f1c11dab8d0",
   "metadata": {},
   "source": [
    "---"
   ]
  },
  {
   "cell_type": "markdown",
   "id": "a8eba39e-cf91-45af-aa7d-6d71495f1ac3",
   "metadata": {},
   "source": [
    "### **Ejercicio 5. (20 puntos)**\n",
    "\n",
    "Guarde en un *DataFrame* los datos de los 6 contaminantes principales de la ciudad de Puebla a partir del año 2016 (*contam_PUE_ugm3.csv* en GitHub). A continuación, realice lo siguiente:\n",
    "\n",
    "a) Obtenga las gráficas de series de tiempo** de todos los contaminantes, los gráficos de caja, y calcule el número de datos atípicos de cada uno.\n",
    "\n",
    "b) Realice una prueba de contraste de normalidad para los datos. Obtenga una matriz de correlación y un mapa de calor de los contaminantes utilizando el coeficiente de correlación apropiado.\n",
    "\n",
    "c) Obtenga un *DataFrame* que muestre la correlación 2 a 2 entre los contaminantes.  \n",
    "Grafique 3 diagramas de dispersión** entre los contaminantes que presentan mayor correlación, ya sea positiva o negativa.\n",
    "\n",
    "d) Aplique el test de Mann-Kendall a todos los contaminantes y obtenga una gráfica con la línea de tendencia de cada uno (en caso de que exista).\n",
    "\n",
    "e) Compruebe la existencia de tendencia mediante el método ITA (Innovative Trend Analysis).\n"
   ]
  },
  {
   "cell_type": "code",
   "execution_count": null,
   "id": "1fb5935a-cabb-4242-9e86-08d48d508eab",
   "metadata": {},
   "outputs": [],
   "source": []
  }
 ],
 "metadata": {
  "kernelspec": {
   "display_name": "Python 3 (ipykernel)",
   "language": "python",
   "name": "python3"
  },
  "language_info": {
   "codemirror_mode": {
    "name": "ipython",
    "version": 3
   },
   "file_extension": ".py",
   "mimetype": "text/x-python",
   "name": "python",
   "nbconvert_exporter": "python",
   "pygments_lexer": "ipython3",
   "version": "3.10.10"
  }
 },
 "nbformat": 4,
 "nbformat_minor": 5
}
