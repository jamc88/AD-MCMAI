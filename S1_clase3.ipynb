{
 "cells": [
  {
   "cell_type": "markdown",
   "id": "ba3441b5-d8b2-4d2a-acb0-62778ca9fe18",
   "metadata": {},
   "source": [
    "# Clase 3 - Semana 1\n",
    "#### Tópicos Selectos De Matemáticas Aplicadas II: Análisis de Datos con Python"
   ]
  },
  {
   "cell_type": "code",
   "execution_count": 1,
   "id": "b7a9fcff-5059-432c-9f46-4b2ad2ab64ba",
   "metadata": {},
   "outputs": [],
   "source": [
    "# Una lista que contenga los números del 1 al 10,000 que sean múltiplos de 3 y 5\n",
    "L=[]\n",
    "\n",
    "for i in range(1, 10_001):\n",
    "    if i % 3 == 0 and i % 5 == 0:\n",
    "        L.append(i)\n"
   ]
  },
  {
   "cell_type": "code",
   "execution_count": null,
   "id": "3814222a-77f0-4540-97b8-b05a213d81fd",
   "metadata": {},
   "outputs": [],
   "source": []
  },
  {
   "cell_type": "code",
   "execution_count": null,
   "id": "7c04a58b-b445-4165-abab-059940a6385a",
   "metadata": {},
   "outputs": [],
   "source": []
  },
  {
   "cell_type": "code",
   "execution_count": null,
   "id": "710984bc-ba85-40ad-a554-2e7e0a79d12b",
   "metadata": {},
   "outputs": [],
   "source": []
  },
  {
   "cell_type": "markdown",
   "id": "94716cd6-5fca-4d52-bda9-46b5a16bafee",
   "metadata": {},
   "source": [
    "Escribe un programa que evalúe la siguiente función $f:\\mathbb{Z} \\to \\mathbb{R}$ definida por:\n",
    "\n",
    "$$\n",
    "f(x) =\n",
    "\\begin{cases}\n",
    "x^3 & \\text{si } x < 0, \\\\\n",
    "e^x   & \\text{si } 0 \\leq x \\leq 10, \\\\\n",
    "\\sqrt{x+3} & \\text{si } x > 10.\n",
    "\\end{cases}\n",
    "$$\n",
    "\n",
    " de $[-15,15]$."
   ]
  },
  {
   "cell_type": "code",
   "execution_count": 2,
   "id": "4349729c-a0af-4f27-b336-6e4c697be302",
   "metadata": {},
   "outputs": [],
   "source": [
    "#math.exp(2)"
   ]
  },
  {
   "cell_type": "code",
   "execution_count": 3,
   "id": "ba1f4c53-7e62-4ffd-8c44-132d61057318",
   "metadata": {},
   "outputs": [],
   "source": [
    "import math\n",
    "\n",
    "for x in range(-15, 16):\n",
    "    if x < 0: \n",
    "        fx = x**3\n",
    "    elif  x<= 10:\n",
    "        fx = math.exp(x)\n",
    "    else:\n",
    "        fx = math.sqrt(x+3)\n",
    "    print(fx)"
   ]
  },
  {
   "cell_type": "code",
   "execution_count": null,
   "id": "0d9937e5-eb91-43c5-9334-b4ea76717368",
   "metadata": {},
   "outputs": [],
   "source": []
  },
  {
   "cell_type": "code",
   "execution_count": null,
   "id": "9f2d23ec-9e38-4444-95d9-35eaf8461980",
   "metadata": {},
   "outputs": [],
   "source": []
  },
  {
   "cell_type": "markdown",
   "id": "b93eeee0-b83f-44e8-af79-af94cdf1df1f",
   "metadata": {},
   "source": [
    "### Bucle while"
   ]
  },
  {
   "cell_type": "markdown",
   "id": "0faa03c3-a2cc-4cc0-b9d0-d84d8311d803",
   "metadata": {},
   "source": [
    "Un bucle while especifica una condición y un bloque de código que se va ejecutar hasta que la condición evalúe a **False** o el bucle sea finalizado explícitamente con **break**:\n"
   ]
  },
  {
   "cell_type": "code",
   "execution_count": 4,
   "id": "060613d4-06d5-47e6-99c2-001200577227",
   "metadata": {},
   "outputs": [],
   "source": [
    "x = 50\n",
    "total = 0\n",
    "\n",
    "while x > 0:\n",
    "    if total > 700: break\n",
    "    print(total)\n",
    "    total += x"
   ]
  },
  {
   "cell_type": "code",
   "execution_count": null,
   "id": "2cbf9f18-acaa-404c-b835-fa053338ba1e",
   "metadata": {},
   "outputs": [],
   "source": []
  },
  {
   "cell_type": "code",
   "execution_count": null,
   "id": "c1fa4b6a-c816-4a99-8428-faeba6621464",
   "metadata": {},
   "outputs": [],
   "source": []
  },
  {
   "cell_type": "code",
   "execution_count": null,
   "id": "72b83a51-c661-4234-b67b-27469b3cb409",
   "metadata": {},
   "outputs": [],
   "source": []
  },
  {
   "cell_type": "markdown",
   "id": "bb9fd1f1-c406-4dfa-805e-746f06eadbf0",
   "metadata": {},
   "source": [
    "El uso de **while True** en Python sirve para crear un bucle infinito que se repetirá continuamente hasta que se detenga explícitamente mediante una instrucción como *break*. Se utiliza cuando no se conoce de antemano cuántas veces se debe repetir el bucle, y se quiere que el usuario (o una condición interna) decida cuándo salir."
   ]
  },
  {
   "cell_type": "code",
   "execution_count": 5,
   "id": "41ba337f-dbbd-4a68-9272-9d248299c22b",
   "metadata": {},
   "outputs": [
    {
     "name": "stdout",
     "output_type": "stream",
     "text": [
      "Ingresa un número positivo: -2\n",
      "Ingresa un número positivo: 6\n"
     ]
    }
   ],
   "source": [
    "while True:\n",
    "    n = int(input(\"Ingresa un número positivo: \"))\n",
    "    if n > 0:\n",
    "        break  # se sale del bucle solo si la condición es válida\n",
    "    print(\"Número no válido.\")"
   ]
  },
  {
   "cell_type": "code",
   "execution_count": null,
   "id": "76c3cbcc-2eb5-43a0-ada0-b2f58cdf9dd5",
   "metadata": {},
   "outputs": [],
   "source": []
  },
  {
   "cell_type": "code",
   "execution_count": null,
   "id": "ddb2d86b-8aa6-4653-9d79-9f01b0e51a24",
   "metadata": {},
   "outputs": [],
   "source": []
  },
  {
   "cell_type": "markdown",
   "id": "c7a3eef8-a73f-4de0-ad48-3d9dbab09927",
   "metadata": {},
   "source": [
    "Solicita edades al usuario. Clasifica cada una como:\n",
    "\n",
    "- \\- 18 Menor de edad\n",
    "- 18–29\tJóvenes adultos\n",
    "- 30–44\tAdultos jóvenes\n",
    "- 45–59\tAdultos maduros\n",
    "- 60+\t    Adultos mayores\n",
    "\n",
    "Termina cuando se ingrese un 0."
   ]
  },
  {
   "cell_type": "code",
   "execution_count": null,
   "id": "d24a4a8c-2a8b-4e1a-9deb-e63b69332166",
   "metadata": {},
   "outputs": [],
   "source": []
  },
  {
   "cell_type": "code",
   "execution_count": 6,
   "id": "adb66a40",
   "metadata": {},
   "outputs": [
    {
     "name": "stdout",
     "output_type": "stream",
     "text": [
      "Edad (0 para salir): 0\n"
     ]
    }
   ],
   "source": [
    "while True:\n",
    "    edad = int(input(\"Edad (0 para salir): \"))\n",
    "    if edad == 0:\n",
    "        break\n",
    "    elif edad < 18:\n",
    "        print(\"Menor de edad\")\n",
    "    elif edad <= 29:\n",
    "        print(\"Jóven adulto\")\n",
    "    elif edad <= 44:\n",
    "        print(\"Adulto Joven\")\n",
    "    elif edad <= 59:\n",
    "        print(\"Adulto Maduro\")\n",
    "    else:\n",
    "        print(\"Adulto mayor\")"
   ]
  },
  {
   "cell_type": "code",
   "execution_count": null,
   "id": "2f018463",
   "metadata": {},
   "outputs": [],
   "source": []
  },
  {
   "cell_type": "code",
   "execution_count": null,
   "id": "8832c570",
   "metadata": {},
   "outputs": [],
   "source": []
  },
  {
   "cell_type": "code",
   "execution_count": null,
   "id": "764bfb30",
   "metadata": {},
   "outputs": [],
   "source": []
  },
  {
   "cell_type": "code",
   "execution_count": null,
   "id": "4296f3fb",
   "metadata": {},
   "outputs": [],
   "source": []
  },
  {
   "cell_type": "code",
   "execution_count": null,
   "id": "693f336c",
   "metadata": {},
   "outputs": [],
   "source": []
  },
  {
   "cell_type": "markdown",
   "id": "87591748",
   "metadata": {},
   "source": [
    "# Listas"
   ]
  },
  {
   "cell_type": "markdown",
   "id": "573fbd07",
   "metadata": {},
   "source": [
    "### Añadir y eliminar elementos"
   ]
  },
  {
   "cell_type": "markdown",
   "id": "156033d9",
   "metadata": {},
   "source": [
    "Utilizando **insert** se puede insertar un elemento en una determinada posición de la lista:"
   ]
  },
  {
   "cell_type": "code",
   "execution_count": 7,
   "id": "94328d0b",
   "metadata": {},
   "outputs": [],
   "source": [
    "lista=['foco', 'bar', 'azul']"
   ]
  },
  {
   "cell_type": "code",
   "execution_count": 8,
   "id": "9ee87aaf",
   "metadata": {},
   "outputs": [],
   "source": [
    "lista"
   ]
  },
  {
   "cell_type": "code",
   "execution_count": 9,
   "id": "e047cd49",
   "metadata": {},
   "outputs": [],
   "source": [
    "lista.insert(1, 'luna')"
   ]
  },
  {
   "cell_type": "code",
   "execution_count": 10,
   "id": "f22dce6f",
   "metadata": {},
   "outputs": [],
   "source": [
    "lista"
   ]
  },
  {
   "cell_type": "code",
   "execution_count": null,
   "id": "a1e6ef44-b6cf-4ecf-b79c-6ff70831666a",
   "metadata": {},
   "outputs": [],
   "source": []
  },
  {
   "cell_type": "code",
   "execution_count": null,
   "id": "673f305e-ec71-49b2-92ff-15266b5dc03e",
   "metadata": {},
   "outputs": [],
   "source": []
  },
  {
   "cell_type": "code",
   "execution_count": null,
   "id": "31a7bccd-5429-4e70-bb81-a4d4b6e5fede",
   "metadata": {},
   "outputs": [],
   "source": []
  },
  {
   "cell_type": "markdown",
   "id": "c82e4d9a",
   "metadata": {},
   "source": [
    "La operación inversa a insert es **pop**, que elimina y devuelve un elemento en un determinado índice:"
   ]
  },
  {
   "cell_type": "code",
   "execution_count": 11,
   "id": "da02f311",
   "metadata": {},
   "outputs": [],
   "source": [
    "lista.pop(2)"
   ]
  },
  {
   "cell_type": "code",
   "execution_count": 12,
   "id": "1b773a88",
   "metadata": {},
   "outputs": [],
   "source": [
    "lista"
   ]
  },
  {
   "cell_type": "code",
   "execution_count": null,
   "id": "4325c71d",
   "metadata": {},
   "outputs": [],
   "source": []
  },
  {
   "cell_type": "code",
   "execution_count": 13,
   "id": "90817813",
   "metadata": {},
   "outputs": [],
   "source": [
    "lista.remove('foco')"
   ]
  },
  {
   "cell_type": "code",
   "execution_count": 14,
   "id": "23fc8e16",
   "metadata": {},
   "outputs": [],
   "source": [
    "lista"
   ]
  },
  {
   "cell_type": "code",
   "execution_count": null,
   "id": "e8d83e3d",
   "metadata": {},
   "outputs": [],
   "source": []
  },
  {
   "cell_type": "markdown",
   "id": "d8a8fe68",
   "metadata": {},
   "source": [
    "Podemos comprobar que una lista contiene un valor mediante la palabra clave **in**:"
   ]
  },
  {
   "cell_type": "code",
   "execution_count": 15,
   "id": "a9a5136f",
   "metadata": {},
   "outputs": [],
   "source": [
    "'luna' in lista"
   ]
  },
  {
   "cell_type": "code",
   "execution_count": null,
   "id": "28fb028a",
   "metadata": {},
   "outputs": [],
   "source": []
  },
  {
   "cell_type": "code",
   "execution_count": null,
   "id": "02e04924-ac4f-46ef-9146-5f569913a02a",
   "metadata": {},
   "outputs": [],
   "source": []
  },
  {
   "cell_type": "code",
   "execution_count": null,
   "id": "87a6b096",
   "metadata": {},
   "outputs": [],
   "source": []
  },
  {
   "cell_type": "markdown",
   "id": "7edadd44",
   "metadata": {},
   "source": [
    "### Ordenar"
   ]
  },
  {
   "cell_type": "code",
   "execution_count": 16,
   "id": "bd8aea14",
   "metadata": {},
   "outputs": [],
   "source": [
    "a = [7, 2, 5, 1, 3]"
   ]
  },
  {
   "cell_type": "code",
   "execution_count": 17,
   "id": "8fa775d9",
   "metadata": {},
   "outputs": [],
   "source": [
    "a.sort()"
   ]
  },
  {
   "cell_type": "code",
   "execution_count": 18,
   "id": "7049745f",
   "metadata": {},
   "outputs": [],
   "source": [
    "a"
   ]
  },
  {
   "cell_type": "markdown",
   "id": "0241f417",
   "metadata": {},
   "source": [
    "Podemos ordenar una colección de cadenas de texto por sus longitudes:"
   ]
  },
  {
   "cell_type": "code",
   "execution_count": 19,
   "id": "1e7cc207",
   "metadata": {},
   "outputs": [],
   "source": [
    "b = ['saw','small','He','fox','six','circle']"
   ]
  },
  {
   "cell_type": "code",
   "execution_count": 20,
   "id": "88a581ab",
   "metadata": {},
   "outputs": [],
   "source": [
    "b.sort()"
   ]
  },
  {
   "cell_type": "code",
   "execution_count": 21,
   "id": "3ec2cc40",
   "metadata": {},
   "outputs": [],
   "source": [
    "b"
   ]
  },
  {
   "cell_type": "code",
   "execution_count": 22,
   "id": "48472df6",
   "metadata": {},
   "outputs": [],
   "source": [
    "b.sort(key=len)"
   ]
  },
  {
   "cell_type": "code",
   "execution_count": 23,
   "id": "4630a547",
   "metadata": {},
   "outputs": [],
   "source": [
    "b"
   ]
  },
  {
   "cell_type": "markdown",
   "id": "3633cc37",
   "metadata": {},
   "source": [
    "**key=len** Para ordenar por longitud.\n",
    "\n",
    "**key=str.lower** Para ordenar cadenas sin distinguir mayúsculas/minúsculas.\n",
    "\n",
    "**key=abs** Para ordenar números por su valor absoluto.\n"
   ]
  },
  {
   "cell_type": "code",
   "execution_count": null,
   "id": "7da849d3",
   "metadata": {},
   "outputs": [],
   "source": []
  },
  {
   "cell_type": "code",
   "execution_count": null,
   "id": "85a76106",
   "metadata": {},
   "outputs": [],
   "source": []
  },
  {
   "cell_type": "code",
   "execution_count": null,
   "id": "0cca36eb-6f86-4950-95b9-6d355eeb7646",
   "metadata": {},
   "outputs": [],
   "source": []
  },
  {
   "cell_type": "code",
   "execution_count": 24,
   "id": "f44d7c65-6013-4028-a9cc-28a312039120",
   "metadata": {},
   "outputs": [],
   "source": [
    "#Devuelve una lista ordenada de todos los estados del país\n",
    "\n",
    "estados = ['Colima', 'Saltillo', 'Tlaxcala', 'Acapulco', 'Nayarit', 'Campeche', \n",
    " 'Sonora', 'Cancún', 'Durango', 'Tijuana', 'Veracruz', 'Yucatán', 'Guerrero', \n",
    " 'Nuevo León', 'Jalisco', 'Puebla', 'Tabasco', 'Toluca', 'Morelos', 'Tuxtla Gutiérrez',\n",
    " 'Hidalgo', 'Baja California', 'Estado de México', 'Tepic', 'San Luis Potosí', \n",
    " 'Chihuahua', 'Mazatlán', 'Quintana Roo', 'Querétaro', 'Chiapas', 'Sinaloa', \n",
    " 'Ciudad de México', 'Coahuila', 'Guanajuato', 'Michoacán', \n",
    " 'Baja California Sur', 'Oaxaca', 'Baja California']"
   ]
  },
  {
   "cell_type": "code",
   "execution_count": 25,
   "id": "9e365192-2be2-46bf-b9eb-4fd3a7a79310",
   "metadata": {},
   "outputs": [],
   "source": [
    "estados.sort()\n",
    "estados"
   ]
  },
  {
   "cell_type": "code",
   "execution_count": 26,
   "id": "36176eef",
   "metadata": {},
   "outputs": [],
   "source": [
    "estados.remove('Acapulco')\n",
    "estados.remove('Cancún')"
   ]
  },
  {
   "cell_type": "code",
   "execution_count": 27,
   "id": "7e240ffc",
   "metadata": {},
   "outputs": [],
   "source": [
    "len(estados)"
   ]
  },
  {
   "cell_type": "code",
   "execution_count": null,
   "id": "1b6d3e91-0f27-402f-ba13-c5038f58ffa0",
   "metadata": {},
   "outputs": [],
   "source": []
  },
  {
   "cell_type": "code",
   "execution_count": 28,
   "id": "00f5924a-b504-4073-b78a-2cb7f8087cb7",
   "metadata": {},
   "outputs": [],
   "source": [
    "estados.sort()"
   ]
  },
  {
   "cell_type": "code",
   "execution_count": null,
   "id": "a5a0bf32-c1fa-4584-8005-5b94553d527c",
   "metadata": {},
   "outputs": [],
   "source": []
  },
  {
   "cell_type": "code",
   "execution_count": 29,
   "id": "e3210d9e-b4b0-4c9e-9b73-2f333c3a696c",
   "metadata": {},
   "outputs": [],
   "source": [
    "'Zacatecas' in estados"
   ]
  },
  {
   "cell_type": "code",
   "execution_count": null,
   "id": "c0e8b909-1898-4852-ba22-09c1d9ffd207",
   "metadata": {},
   "outputs": [],
   "source": []
  },
  {
   "cell_type": "code",
   "execution_count": 30,
   "id": "dee387fc-b4e3-49b8-90ed-32f1fb8a1cbd",
   "metadata": {},
   "outputs": [],
   "source": [
    "estados.insert(0, 'Aguascalientes')"
   ]
  },
  {
   "cell_type": "code",
   "execution_count": 31,
   "id": "8bc107ec-7a9d-4cfa-a4f6-a63de1a974a4",
   "metadata": {},
   "outputs": [],
   "source": [
    "len(estados)"
   ]
  },
  {
   "cell_type": "code",
   "execution_count": 32,
   "id": "76cf784a-9747-47e0-b667-8c58c2fccc42",
   "metadata": {},
   "outputs": [],
   "source": [
    "estados.pop(1)"
   ]
  },
  {
   "cell_type": "code",
   "execution_count": null,
   "id": "88deaeb1-5aee-46e2-94b7-a33a186f9717",
   "metadata": {},
   "outputs": [],
   "source": []
  },
  {
   "cell_type": "code",
   "execution_count": null,
   "id": "0db642ba-062f-40fe-80c7-9ee3902ad3dd",
   "metadata": {},
   "outputs": [],
   "source": []
  },
  {
   "cell_type": "code",
   "execution_count": null,
   "id": "8b8d6aa0-2418-4f7f-a9b4-93bb98e3e8c4",
   "metadata": {},
   "outputs": [],
   "source": []
  },
  {
   "cell_type": "markdown",
   "id": "18fda0e7",
   "metadata": {},
   "source": [
    "### Corte o rebanado"
   ]
  },
  {
   "cell_type": "code",
   "execution_count": 33,
   "id": "0be1213d",
   "metadata": {},
   "outputs": [],
   "source": [
    "seq = [7, 2, 3, 7, 5, 6, 0, 1]"
   ]
  },
  {
   "cell_type": "code",
   "execution_count": 34,
   "id": "b49ba81f",
   "metadata": {},
   "outputs": [],
   "source": [
    "seq[3:8]"
   ]
  },
  {
   "cell_type": "code",
   "execution_count": 35,
   "id": "8a0b5f6a",
   "metadata": {},
   "outputs": [],
   "source": [
    "seq[3:5] = [66,37,78]"
   ]
  },
  {
   "cell_type": "code",
   "execution_count": 36,
   "id": "648dd0ec",
   "metadata": {},
   "outputs": [],
   "source": [
    "seq"
   ]
  },
  {
   "cell_type": "code",
   "execution_count": null,
   "id": "46890bf7",
   "metadata": {},
   "outputs": [],
   "source": []
  },
  {
   "cell_type": "code",
   "execution_count": null,
   "id": "d28ca478-52c5-45ce-8c9f-fabcdb31b25e",
   "metadata": {},
   "outputs": [],
   "source": []
  },
  {
   "cell_type": "code",
   "execution_count": null,
   "id": "65ab8748-5433-47b7-9fa0-b3d616fa2e8f",
   "metadata": {},
   "outputs": [],
   "source": []
  },
  {
   "cell_type": "code",
   "execution_count": 37,
   "id": "ab40d966-f577-448e-9828-49f3269d7907",
   "metadata": {},
   "outputs": [],
   "source": [
    "# Ejemplo\n",
    "F= [ 1, 13, 2584, 610, 233, 0, 21, 2, 144, 8, 4181, 377, 3, 34, 55, 89, 1, 5]"
   ]
  },
  {
   "cell_type": "code",
   "execution_count": 38,
   "id": "605334a5-0b99-4c84-9178-0b8d563d857a",
   "metadata": {},
   "outputs": [],
   "source": [
    "F.sort()"
   ]
  },
  {
   "cell_type": "code",
   "execution_count": 39,
   "id": "b8cb1761-6ccb-47a7-bc86-59243b8c4aa6",
   "metadata": {},
   "outputs": [],
   "source": [
    "F"
   ]
  },
  {
   "cell_type": "code",
   "execution_count": null,
   "id": "f11f201e-133d-46ad-9db8-7704e8097f52",
   "metadata": {},
   "outputs": [],
   "source": []
  },
  {
   "cell_type": "code",
   "execution_count": null,
   "id": "93d251a7-ce1c-4ea4-bab5-98c514ad1969",
   "metadata": {},
   "outputs": [],
   "source": []
  },
  {
   "cell_type": "code",
   "execution_count": null,
   "id": "b16e0713",
   "metadata": {},
   "outputs": [],
   "source": []
  }
 ],
 "metadata": {
  "kernelspec": {
   "display_name": "Python 3 (ipykernel)",
   "language": "python",
   "name": "python3"
  },
  "language_info": {
   "codemirror_mode": {
    "name": "ipython",
    "version": 3
   },
   "file_extension": ".py",
   "mimetype": "text/x-python",
   "name": "python",
   "nbconvert_exporter": "python",
   "pygments_lexer": "ipython3",
   "version": "3.11.3"
  }
 },
 "nbformat": 4,
 "nbformat_minor": 5
}
