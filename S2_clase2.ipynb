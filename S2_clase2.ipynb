{
 "cells": [
  {
   "cell_type": "markdown",
   "id": "5a00acae",
   "metadata": {},
   "source": [
    "# Clase 2 - Semana 2\n",
    "#### Tópicos Selectos De Matemáticas Aplicadas II: Análisis de Datos con Python"
   ]
  },
  {
   "cell_type": "code",
   "execution_count": 1,
   "id": "2689a3b0",
   "metadata": {},
   "outputs": [],
   "source": [
    "import numpy as np"
   ]
  },
  {
   "cell_type": "markdown",
   "id": "3f334898",
   "metadata": {},
   "source": [
    "## Indexado y corte"
   ]
  },
  {
   "cell_type": "code",
   "execution_count": 2,
   "id": "202a7adf",
   "metadata": {},
   "outputs": [
    {
     "data": {
      "text/plain": [
       "array([0, 1, 2, 3, 4, 5, 6, 7, 8, 9])"
      ]
     },
     "execution_count": 2,
     "metadata": {},
     "output_type": "execute_result"
    }
   ],
   "source": [
    "arr = np.arange(10)\n",
    "arr"
   ]
  },
  {
   "cell_type": "code",
   "execution_count": 3,
   "id": "18c5c9e0",
   "metadata": {},
   "outputs": [
    {
     "data": {
      "text/plain": [
       "8"
      ]
     },
     "execution_count": 3,
     "metadata": {},
     "output_type": "execute_result"
    }
   ],
   "source": [
    "arr[8]"
   ]
  },
  {
   "cell_type": "code",
   "execution_count": 4,
   "id": "a06e2a67",
   "metadata": {},
   "outputs": [
    {
     "data": {
      "text/plain": [
       "array([2, 3, 4, 5, 6, 7, 8, 9])"
      ]
     },
     "execution_count": 4,
     "metadata": {},
     "output_type": "execute_result"
    }
   ],
   "source": [
    "arr[2:]"
   ]
  },
  {
   "cell_type": "code",
   "execution_count": 5,
   "id": "6fc193f9",
   "metadata": {},
   "outputs": [],
   "source": [
    "arr[5:8] = 10"
   ]
  },
  {
   "cell_type": "code",
   "execution_count": 6,
   "id": "e0e7534e",
   "metadata": {},
   "outputs": [
    {
     "data": {
      "text/plain": [
       "array([ 0,  1,  2,  3,  4, 10, 10, 10,  8,  9])"
      ]
     },
     "execution_count": 6,
     "metadata": {},
     "output_type": "execute_result"
    }
   ],
   "source": [
    "arr"
   ]
  },
  {
   "cell_type": "markdown",
   "id": "380d1d37",
   "metadata": {},
   "source": [
    "En un array bidimensional, los elementos de cada índice ya no son escalares, sino más bien arrays unidimensionales:"
   ]
  },
  {
   "cell_type": "code",
   "execution_count": 7,
   "id": "e22171de",
   "metadata": {},
   "outputs": [
    {
     "data": {
      "text/plain": [
       "array([[1, 2, 3],\n",
       "       [4, 5, 6],\n",
       "       [7, 8, 9]])"
      ]
     },
     "execution_count": 7,
     "metadata": {},
     "output_type": "execute_result"
    }
   ],
   "source": [
    "arr2d = np.array([[1, 2, 3], [4, 5, 6], [7, 8, 9]])\n",
    "arr2d"
   ]
  },
  {
   "cell_type": "code",
   "execution_count": 8,
   "id": "db0b9777",
   "metadata": {},
   "outputs": [
    {
     "data": {
      "text/plain": [
       "3"
      ]
     },
     "execution_count": 8,
     "metadata": {},
     "output_type": "execute_result"
    }
   ],
   "source": [
    "arr2d[0][2]"
   ]
  },
  {
   "cell_type": "code",
   "execution_count": null,
   "id": "24cef0c0",
   "metadata": {},
   "outputs": [],
   "source": []
  },
  {
   "cell_type": "code",
   "execution_count": null,
   "id": "c62f898a",
   "metadata": {},
   "outputs": [],
   "source": []
  },
  {
   "cell_type": "code",
   "execution_count": 9,
   "id": "179077a9",
   "metadata": {},
   "outputs": [],
   "source": [
    "A = np.array([\n",
    "    [2, 4, 6],\n",
    "    [4, 5, 7],\n",
    "    [6, 7, 9]\n",
    "])\n",
    "\n",
    "B = np.array([\n",
    "    [1, 2, 3],\n",
    "    [0, 1, 4],\n",
    "    [5, 6, 0]\n",
    "])"
   ]
  },
  {
   "cell_type": "markdown",
   "id": "0e0d3c90",
   "metadata": {},
   "source": [
    "Con las matrices A y B:\n",
    "\n",
    "- Calcula el producto matricial\n",
    "\n",
    "- Calcula la transpuesta de A y B\n",
    "\n",
    "- Verifica si A es simétrica\n",
    "\n",
    "- Calcula la inversa de B (si existe) y comprueba si es su inversa."
   ]
  },
  {
   "cell_type": "code",
   "execution_count": 10,
   "id": "c6772447",
   "metadata": {},
   "outputs": [
    {
     "data": {
      "text/plain": [
       "array([[32, 44, 22],\n",
       "       [39, 55, 32],\n",
       "       [51, 73, 46]])"
      ]
     },
     "execution_count": 10,
     "metadata": {},
     "output_type": "execute_result"
    }
   ],
   "source": [
    "np.dot(A,B)"
   ]
  },
  {
   "cell_type": "code",
   "execution_count": 11,
   "id": "eb594d78",
   "metadata": {},
   "outputs": [
    {
     "data": {
      "text/plain": [
       "True"
      ]
     },
     "execution_count": 11,
     "metadata": {},
     "output_type": "execute_result"
    }
   ],
   "source": [
    "np.array_equal(A, A.T)"
   ]
  },
  {
   "cell_type": "code",
   "execution_count": 12,
   "id": "5979ccb3",
   "metadata": {},
   "outputs": [
    {
     "data": {
      "text/plain": [
       "array([[2, 4, 6],\n",
       "       [4, 5, 7],\n",
       "       [6, 7, 9]])"
      ]
     },
     "execution_count": 12,
     "metadata": {},
     "output_type": "execute_result"
    }
   ],
   "source": [
    "A.T"
   ]
  },
  {
   "cell_type": "code",
   "execution_count": 13,
   "id": "b4af86bb",
   "metadata": {},
   "outputs": [
    {
     "data": {
      "text/plain": [
       "array([[ 1., -0., -0.],\n",
       "       [ 0.,  1.,  0.],\n",
       "       [ 0.,  0.,  1.]])"
      ]
     },
     "execution_count": 13,
     "metadata": {},
     "output_type": "execute_result"
    }
   ],
   "source": [
    "B_i = np.linalg.inv(B)\n",
    "\n",
    "np.dot(B, B_i).round()"
   ]
  },
  {
   "cell_type": "code",
   "execution_count": null,
   "id": "55976aa7",
   "metadata": {},
   "outputs": [],
   "source": []
  },
  {
   "cell_type": "markdown",
   "id": "4d15b420-fe1a-4329-aa49-e02f5f71d517",
   "metadata": {},
   "source": [
    "Resuelve el siguiente sistema de ecuaciones aplicando el método de Cramer:\n",
    "\n",
    "$$\n",
    "\\begin{cases}\n",
    "2x_1 + 4x_2 + 6x_3 = 18, \\\\\n",
    "4x_1 + 5x_2 + 6x_3 = 24, \\\\\n",
    "3x_1 + x_2 - 2x_3 = 4.\n",
    "\\end{cases}\n",
    "$$"
   ]
  },
  {
   "cell_type": "code",
   "execution_count": 14,
   "id": "2921ffe2-643d-4d8b-aaaa-2defbcb46ee1",
   "metadata": {},
   "outputs": [],
   "source": [
    "A = np.array([[2,4,6], \n",
    "              [4, 5,6],\n",
    "              [3, 1, -2]])"
   ]
  },
  {
   "cell_type": "code",
   "execution_count": 15,
   "id": "010524c8-0bd3-4c2d-8d15-2066e0ef65e3",
   "metadata": {},
   "outputs": [],
   "source": [
    "D1 = np.array([[18,4,6], \n",
    "               [24, 5,6],\n",
    "               [4, 1, -2]])"
   ]
  },
  {
   "cell_type": "code",
   "execution_count": 16,
   "id": "e7053702-cde7-4cfe-8767-a9b11d461e7f",
   "metadata": {},
   "outputs": [],
   "source": [
    "x_1 = np.linalg.det(D1)/np.linalg.det(A)"
   ]
  },
  {
   "cell_type": "code",
   "execution_count": 17,
   "id": "47a6d45c-3105-45c2-87a3-1290eb4f93c0",
   "metadata": {},
   "outputs": [
    {
     "data": {
      "text/plain": [
       "4.000000000000003"
      ]
     },
     "execution_count": 17,
     "metadata": {},
     "output_type": "execute_result"
    }
   ],
   "source": [
    "x_1"
   ]
  },
  {
   "cell_type": "code",
   "execution_count": null,
   "id": "93afcd71-e8be-463c-810e-c0738d4ec410",
   "metadata": {},
   "outputs": [],
   "source": []
  },
  {
   "cell_type": "code",
   "execution_count": 18,
   "id": "05529eac-70a4-4d77-a7f3-1c6aa7e982bd",
   "metadata": {},
   "outputs": [],
   "source": [
    "b = np.array([18,24,4])\n",
    "\n",
    "x=np.linalg.solve(A, b)"
   ]
  },
  {
   "cell_type": "code",
   "execution_count": 19,
   "id": "4d1d9d8c-4ea2-4829-805a-a4f893d6ff04",
   "metadata": {},
   "outputs": [
    {
     "data": {
      "text/plain": [
       "array([ 4., -2.,  3.])"
      ]
     },
     "execution_count": 19,
     "metadata": {},
     "output_type": "execute_result"
    }
   ],
   "source": [
    "x"
   ]
  },
  {
   "cell_type": "code",
   "execution_count": null,
   "id": "59748410-8a25-49f0-acde-ded91386ec26",
   "metadata": {},
   "outputs": [],
   "source": []
  },
  {
   "cell_type": "code",
   "execution_count": 20,
   "id": "19761bc7-17b9-410b-ae0e-79aa9a6c064f",
   "metadata": {},
   "outputs": [
    {
     "data": {
      "text/plain": [
       "array([18., 24.,  4.])"
      ]
     },
     "execution_count": 20,
     "metadata": {},
     "output_type": "execute_result"
    }
   ],
   "source": [
    "np.dot(A,x)"
   ]
  },
  {
   "cell_type": "code",
   "execution_count": null,
   "id": "b4216403",
   "metadata": {},
   "outputs": [],
   "source": []
  },
  {
   "cell_type": "markdown",
   "id": "5eb90a91",
   "metadata": {},
   "source": [
    "# Números aleatorios"
   ]
  },
  {
   "cell_type": "markdown",
   "id": "02f71b54",
   "metadata": {},
   "source": [
    "La función **randrange(a, b, salto)** genera números enteros aleatorios comprendidos entre a y b separados entre sí con un salto."
   ]
  },
  {
   "cell_type": "code",
   "execution_count": 21,
   "id": "7471fff3",
   "metadata": {},
   "outputs": [],
   "source": [
    "import random as rd"
   ]
  },
  {
   "cell_type": "code",
   "execution_count": 22,
   "id": "f2051464",
   "metadata": {},
   "outputs": [
    {
     "name": "stdout",
     "output_type": "stream",
     "text": [
      "113\n",
      "165\n",
      "7\n",
      "29\n",
      "67\n",
      "7\n",
      "177\n",
      "199\n"
     ]
    }
   ],
   "source": [
    "for i in range(8):\n",
    "    print(rd.randrange(5, 200, 2))"
   ]
  },
  {
   "cell_type": "code",
   "execution_count": null,
   "id": "294ff08b",
   "metadata": {},
   "outputs": [],
   "source": []
  },
  {
   "cell_type": "code",
   "execution_count": 23,
   "id": "67e4c738",
   "metadata": {},
   "outputs": [
    {
     "name": "stdout",
     "output_type": "stream",
     "text": [
      "0.6725373844976072\n",
      "0.7451845485678739\n",
      "0.2846440530184864\n",
      "0.5003037472603944\n",
      "0.5575526286789598\n",
      "0.8852782704402796\n",
      "0.6776177112539433\n",
      "0.5896238001912572\n",
      "0.3630344446262219\n",
      "0.39180716079592415\n",
      "0.21181223154983375\n"
     ]
    }
   ],
   "source": [
    " # random() devuelve un float comprendido entre [0,1)\n",
    "\n",
    "for i in range(11):\n",
    "    print(rd.random())"
   ]
  },
  {
   "cell_type": "code",
   "execution_count": null,
   "id": "cb144f52",
   "metadata": {},
   "outputs": [],
   "source": []
  },
  {
   "cell_type": "code",
   "execution_count": null,
   "id": "5ff1f634",
   "metadata": {},
   "outputs": [],
   "source": []
  },
  {
   "cell_type": "markdown",
   "id": "1c5d7f95",
   "metadata": {},
   "source": [
    " choice() devuelve un elemento aleatorio de una lista."
   ]
  },
  {
   "cell_type": "code",
   "execution_count": 24,
   "id": "025a2935",
   "metadata": {},
   "outputs": [
    {
     "name": "stdout",
     "output_type": "stream",
     "text": [
      "mangos\n",
      "mangos\n",
      "plátanos\n",
      "ciruelas\n",
      "plátanos\n",
      "mangos\n",
      "peras\n",
      "manzanas\n"
     ]
    }
   ],
   "source": [
    "frutas = ['peras', 'manzanas', 'plátanos', 'ciruelas','mangos']\n",
    "\n",
    "for i in range(8):\n",
    "    print(rd.choice(frutas))"
   ]
  },
  {
   "cell_type": "code",
   "execution_count": 25,
   "id": "1744850d-c9fe-4771-812a-2fcf9ca73e97",
   "metadata": {},
   "outputs": [
    {
     "data": {
      "text/plain": [
       "'mangos'"
      ]
     },
     "execution_count": 25,
     "metadata": {},
     "output_type": "execute_result"
    }
   ],
   "source": [
    "rd.choice(frutas)"
   ]
  },
  {
   "cell_type": "code",
   "execution_count": 26,
   "id": "a344929e-9df0-4bb6-9b2e-7889c8183c7c",
   "metadata": {},
   "outputs": [
    {
     "name": "stdout",
     "output_type": "stream",
     "text": [
      "[6, 2, 5, 1, 1, 1, 1, 3, 5, 1, 6, 5, 3, 1, 5, 5, 5, 1, 6, 6, 4, 4, 1, 5, 4, 6, 3, 6, 5, 6, 5, 5, 5, 2, 4, 4, 1, 5, 1, 3, 1, 5, 6, 4, 2, 4, 4, 2, 4, 1, 1, 2, 5, 1, 1, 3, 1, 1, 4, 2, 6, 1, 1, 4, 6, 6, 1, 4, 4, 4, 6, 1, 3, 4, 2, 4, 5, 5, 3, 2, 6, 3, 5, 4, 3, 6, 1, 6, 3, 5, 3, 2, 2, 6, 1, 5, 1, 1, 4, 5]\n"
     ]
    }
   ],
   "source": [
    "caras = [1, 2, 3, 4, 5, 6]\n",
    "\n",
    "lan=[]\n",
    "for i in range(100):\n",
    "    lan.append(rd.choice(caras))\n",
    "\n",
    "print(lan)\n",
    "\n",
    "con = 0\n",
    "for i in lan:\n",
    "    if i==6:\n",
    "        con+=1"
   ]
  },
  {
   "cell_type": "code",
   "execution_count": 27,
   "id": "0714c700-0d1a-4e61-af46-5eecf52d0b8b",
   "metadata": {},
   "outputs": [
    {
     "data": {
      "text/plain": [
       "16"
      ]
     },
     "execution_count": 27,
     "metadata": {},
     "output_type": "execute_result"
    }
   ],
   "source": [
    "con"
   ]
  },
  {
   "cell_type": "code",
   "execution_count": 28,
   "id": "c7909ce6-1d0e-4e2d-a655-963999b709c8",
   "metadata": {},
   "outputs": [
    {
     "data": {
      "text/plain": [
       "100"
      ]
     },
     "execution_count": 28,
     "metadata": {},
     "output_type": "execute_result"
    }
   ],
   "source": [
    "len(lan)"
   ]
  },
  {
   "cell_type": "code",
   "execution_count": 29,
   "id": "b3f09976-8253-4912-bd77-3ff0dd1ec9cb",
   "metadata": {},
   "outputs": [
    {
     "data": {
      "text/plain": [
       "16"
      ]
     },
     "execution_count": 29,
     "metadata": {},
     "output_type": "execute_result"
    }
   ],
   "source": [
    "con"
   ]
  },
  {
   "cell_type": "code",
   "execution_count": null,
   "id": "ef3c7d22-c1ab-4625-8a1c-9de16ff28ebe",
   "metadata": {},
   "outputs": [],
   "source": []
  },
  {
   "cell_type": "code",
   "execution_count": 30,
   "id": "35d901a7-17f4-4992-aa5b-1220d0056be2",
   "metadata": {},
   "outputs": [],
   "source": [
    "# X=# veces que sale una cara del dado"
   ]
  },
  {
   "cell_type": "code",
   "execution_count": 31,
   "id": "9a8f7d7d-eae0-4fa1-9a8f-d08e9312e626",
   "metadata": {},
   "outputs": [
    {
     "data": {
      "text/plain": [
       "16.666666666666668"
      ]
     },
     "execution_count": 31,
     "metadata": {},
     "output_type": "execute_result"
    }
   ],
   "source": [
    "media=100/6\n",
    "media"
   ]
  },
  {
   "cell_type": "code",
   "execution_count": 32,
   "id": "bf5e0813",
   "metadata": {},
   "outputs": [
    {
     "data": {
      "text/plain": [
       "3.7267799624996494"
      ]
     },
     "execution_count": 32,
     "metadata": {},
     "output_type": "execute_result"
    }
   ],
   "source": [
    "sd=np.sqrt(100*(1/6)*(5/6))\n",
    "sd"
   ]
  },
  {
   "cell_type": "code",
   "execution_count": 43,
   "id": "e60fa8cb-ea11-470b-ad91-78e351472f81",
   "metadata": {},
   "outputs": [
    {
     "name": "stdout",
     "output_type": "stream",
     "text": [
      "Al menos 88% de los datos se encuentran en el intervalo  (9.213106741667369, 24.12022659166597)\n"
     ]
    }
   ],
   "source": [
    "print('Al menos 88% de los datos se encuentran en el intervalo ',(media-2*sd,media+2*sd))"
   ]
  },
  {
   "cell_type": "code",
   "execution_count": null,
   "id": "6d2b4aa1-1a25-4a7a-b092-af1504640e5d",
   "metadata": {},
   "outputs": [],
   "source": []
  },
  {
   "cell_type": "code",
   "execution_count": null,
   "id": "56fdcc49-5f2f-41aa-a720-0520d9e9e55a",
   "metadata": {},
   "outputs": [],
   "source": []
  },
  {
   "cell_type": "code",
   "execution_count": null,
   "id": "0e594829-915e-44f4-836c-92874d513427",
   "metadata": {},
   "outputs": [],
   "source": []
  },
  {
   "cell_type": "markdown",
   "id": "7ba846ce",
   "metadata": {},
   "source": [
    "La función **shuffle()** modifica el orden de los elementos de una lista. Esta función se asemeja a la acción de mezclar una baraja."
   ]
  },
  {
   "cell_type": "code",
   "execution_count": 34,
   "id": "b4615bf5",
   "metadata": {},
   "outputs": [
    {
     "name": "stdout",
     "output_type": "stream",
     "text": [
      "[9, 5, 3, 7, 2, 1, 4, 11, 12, 10, 8, 6]\n",
      "[3, 1, 6, 2, 9, 12, 11, 7, 5, 4, 8, 10]\n",
      "[3, 9, 8, 2, 5, 1, 11, 4, 12, 7, 10, 6]\n",
      "[6, 8, 11, 2, 4, 7, 1, 12, 5, 9, 10, 3]\n",
      "[5, 2, 10, 3, 12, 6, 9, 11, 8, 1, 7, 4]\n"
     ]
    }
   ],
   "source": [
    "baraja = list(range(1,13))\n",
    "\n",
    "for i in range(5):\n",
    "    rd.shuffle(baraja)\n",
    "    print(baraja)"
   ]
  },
  {
   "cell_type": "code",
   "execution_count": null,
   "id": "567d8113",
   "metadata": {},
   "outputs": [],
   "source": []
  },
  {
   "cell_type": "code",
   "execution_count": null,
   "id": "653c4fea",
   "metadata": {},
   "outputs": [],
   "source": []
  },
  {
   "cell_type": "markdown",
   "id": "27b00651",
   "metadata": {},
   "source": [
    "El módulo numpy.random complementa el módulo random interno de\n",
    "Python con funciones para generar de forma eficaz arrays enteros de valores de muestra de muchos tipos de distribuciones de probabilidad. "
   ]
  },
  {
   "cell_type": "code",
   "execution_count": 35,
   "id": "98e26034",
   "metadata": {},
   "outputs": [],
   "source": [
    "samples = np.random.standard_normal(size=(3, 3))"
   ]
  },
  {
   "cell_type": "code",
   "execution_count": 36,
   "id": "d4418179",
   "metadata": {},
   "outputs": [
    {
     "data": {
      "text/plain": [
       "array([[-0.36941815, -0.90187492, -0.34250857],\n",
       "       [ 0.71563649, -0.25021747, -0.40466403],\n",
       "       [-0.740027  , -0.13567574,  2.21625149]])"
      ]
     },
     "execution_count": 36,
     "metadata": {},
     "output_type": "execute_result"
    }
   ],
   "source": [
    "samples"
   ]
  },
  {
   "cell_type": "code",
   "execution_count": null,
   "id": "18ffcc75",
   "metadata": {},
   "outputs": [],
   "source": []
  },
  {
   "cell_type": "code",
   "execution_count": null,
   "id": "50950713-0be6-4db7-9275-e3b920cbfb37",
   "metadata": {},
   "outputs": [],
   "source": []
  },
  {
   "cell_type": "markdown",
   "id": "54565a25-6f2a-46d4-9dc1-8aca7216ec20",
   "metadata": {},
   "source": [
    "| Distribución                | Función                                 | Firma básica                                         |\n",
    "|-----------------------------|-----------------------------------------|------------------------------------------------------|\n",
    "| Uniforme continua           | `np.random.uniform`                     | `(low=0.0, high=1.0, size=None)`                     |\n",
    "| Normal (Gaussiana)          | `np.random.normal`                      | `(loc=0.0, scale=1.0, size=None)`                    |\n",
    "| Lognormal                   | `np.random.lognormal`                   | `(mean=0.0, sigma=1.0, size=None)`                   |\n",
    "| Exponencial                 | `np.random.exponential`                 | `(scale=1.0, size=None)`                             |\n",
    "| Gamma                       | `np.random.gamma`                       | `(shape, scale=1.0, size=None)`                      |\n",
    "| Beta                        | `np.random.beta`                        | `(a, b, size=None)`                                  |\n",
    "| Chi-cuadrado                | `np.random.chisquare`                   | `(df, size=None)`                                    |\n",
    "| Laplace (doble exponencial) | `np.random.laplace`                     | `(loc=0.0, scale=1.0, size=None)`                    |\n",
    "| Logística                   | `np.random.logistic`                    | `(loc=0.0, scale=1.0, size=None)`                    |\n",
    "| Gumbel (máximo)             | `np.random.gumbel`                      | `(loc=0.0, scale=1.0, size=None)`                    |\n",
    "| Pareto                      | `np.random.pareto`                      | `(a, size=None)`                                     |\n",
    "| Weibull                     | `np.random.weibull`                     | `(a, size=None)`                                     |\n",
    "| Triangular                  | `np.random.triangular`                  | `(left, mode, right, size=None)`                     |\n",
    "| Enteros uniformes           | `np.random.randint`                     | `(low, high=None, size=None)`                        |\n",
    "| Binomial                    | `np.random.binomial`                    | `(n, p, size=None)`                                  |\n",
    "| Poisson                     | `np.random.poisson`                     | `(lam=1.0, size=None)`                               |\n",
    "| Geométrica                  | `np.random.geometric`                   | `(p, size=None)`                                     |\n",
    "| Hipergeométrica             | `np.random.hypergeometric`              | `(ngood, nbad, nsample, size=None)`                  |\n",
    "| Multinomial                 | `np.random.multinomial`                 | `(n, pvals, size=None)`                              |\n",
    "| Binomial negativa           | `np.random.negative_binomial`           | `(n, p, size=None)`                                  |\n",
    "| Elección de elementos       | `np.random.choice`                      | `(a, size=None, replace=True, p=None)`               |\n",
    "| Barajar (lista / arreglo)   | `np.random.shuffle`                     | `(x)` (modifica x in-place)                          |\n",
    "| Cauchy estándar             | `np.random.standard_cauchy`             | `(size=None)`                                        |\n"
   ]
  },
  {
   "cell_type": "code",
   "execution_count": null,
   "id": "a06c128f-68ef-4ef7-9288-ec4e0614e4c3",
   "metadata": {},
   "outputs": [],
   "source": []
  },
  {
   "cell_type": "markdown",
   "id": "89b11cfe",
   "metadata": {},
   "source": [
    "### Funciones rápidas de array elemento a elemento"
   ]
  },
  {
   "cell_type": "markdown",
   "id": "e5cb6fd1-e514-4b27-9aa2-2ac7ce8c9647",
   "metadata": {},
   "source": [
    "| Función                | Descripción                                      |\n",
    "|------------------------|--------------------------------------------------|\n",
    "| `np.abs(x)`            | Valor absoluto: $|x|$                          |\n",
    "| `np.sqrt(x)`           | Raíz cuadrada                                   |\n",
    "| `np.square(x)`         | Cuadrado: $x^2$                                |\n",
    "| `np.exp(x)`            | Exponencial: $e^x$                             |\n",
    "| `np.log(x)`            | Logaritmo natural: $\\ln(x)$                    |\n",
    "| `np.log10(x)`          | Logaritmo base 10                                |\n",
    "| `np.log2(x)`           | Logaritmo base 2                                 |\n",
    "| `np.sin(x)`            | Seno (radianes)                                  |\n",
    "| `np.cos(x)`            | Coseno (radianes)                                |\n",
    "| `np.tan(x)`            | Tangente (radianes)                              |\n",
    "| `np.arcsin(x)`         | Arcoseno (radianes)                              |\n",
    "| `np.arccos(x)`         | Arcocoseno (radianes)                            |\n",
    "| `np.arctan(x)`         | Arcotangente (radianes)                          |\n",
    "| `np.sinh(x)`           | Seno hiperbólico                                 |\n",
    "| `np.cosh(x)`           | Coseno hiperbólico                               |\n",
    "| `np.tanh(x)`           | Tangente hiperbólica                             |\n",
    "| `np.exp2(x)`           | Potencia de 2: $2^x$                           |\n",
    "| `np.expm1(x)`          | $e^x - 1$ con mayor precisión para $x \\approx 0$ |\n",
    "| `np.log1p(x)`          | $\\ln(1 + x)$ con mayor precisión para $x \\approx 0$ |\n",
    "| `np.rint(x)`           | Redondea al entero más cercano                   |\n",
    "| `np.floor(x)`          | Parte entera hacia abajo                         |\n",
    "| `np.ceil(x)`           | Parte entera hacia arriba                        |\n",
    "| `np.trunc(x)`          | Parte entera eliminando decimales                |\n",
    "| `np.sign(x)`           | Signo: -1, 0 o 1 según el signo de $x$         |\n",
    "| `np.clip(x, a, b)`     | Limita valores de $x$ entre $a$ y $b$      |\n",
    "\n",
    "Todas estas funciones se aplican **automáticamente elemento a elemento** sobre arrays, listas convertidas a arrays, o valores escalares.\n"
   ]
  },
  {
   "cell_type": "code",
   "execution_count": 37,
   "id": "f9e4b4c3",
   "metadata": {},
   "outputs": [
    {
     "data": {
      "text/plain": [
       "array([1, 2, 3, 4, 5, 6, 7, 8, 9])"
      ]
     },
     "execution_count": 37,
     "metadata": {},
     "output_type": "execute_result"
    }
   ],
   "source": [
    "arr = np.arange(1,10)\n",
    "arr"
   ]
  },
  {
   "cell_type": "code",
   "execution_count": 38,
   "id": "1a8db4f0",
   "metadata": {},
   "outputs": [
    {
     "data": {
      "text/plain": [
       "array([0.        , 0.69314718, 1.09861229, 1.38629436, 1.60943791,\n",
       "       1.79175947, 1.94591015, 2.07944154, 2.19722458])"
      ]
     },
     "execution_count": 38,
     "metadata": {},
     "output_type": "execute_result"
    }
   ],
   "source": [
    "np.log(arr)"
   ]
  },
  {
   "cell_type": "code",
   "execution_count": 39,
   "id": "900ba97a",
   "metadata": {},
   "outputs": [
    {
     "data": {
      "text/plain": [
       "array([2.71828183e+00, 7.38905610e+00, 2.00855369e+01, 5.45981500e+01,\n",
       "       1.48413159e+02, 4.03428793e+02, 1.09663316e+03, 2.98095799e+03,\n",
       "       8.10308393e+03])"
      ]
     },
     "execution_count": 39,
     "metadata": {},
     "output_type": "execute_result"
    }
   ],
   "source": [
    "np.exp(arr)"
   ]
  },
  {
   "cell_type": "code",
   "execution_count": null,
   "id": "9e481508",
   "metadata": {},
   "outputs": [],
   "source": []
  },
  {
   "cell_type": "code",
   "execution_count": null,
   "id": "802d056c-c7e3-4b5c-8537-0266ce6bee16",
   "metadata": {},
   "outputs": [],
   "source": []
  },
  {
   "cell_type": "markdown",
   "id": "0a13786a-c591-4b9f-99a7-50861c5f9d92",
   "metadata": {},
   "source": [
    "Dado $x$ en el intervalo $[0, 2\\pi]$, evalúa la siguiente función en 200 puntos:\n",
    "\n",
    "$$\n",
    "f(x) = \\sin(x) + \\cos(2x) + \\tanh(x).\n",
    "$$\n",
    "\n",
    "Además, grafica la señal resultante con `matplotlib.pyplot`."
   ]
  },
  {
   "cell_type": "code",
   "execution_count": 40,
   "id": "2dbdc9f0-8f26-44d1-889f-9d2078c23e58",
   "metadata": {},
   "outputs": [],
   "source": [
    "puntos=np.arange(0,2*np.pi,2*np.pi/200)"
   ]
  },
  {
   "cell_type": "code",
   "execution_count": 41,
   "id": "66b83a95-be98-4d0a-a607-e2b61baabc2e",
   "metadata": {},
   "outputs": [],
   "source": [
    "f_puntos=np.sin(puntos)+np.cos(2*puntos)+np.tanh(puntos)"
   ]
  },
  {
   "cell_type": "code",
   "execution_count": 42,
   "id": "960d0e22-00f6-4188-b625-af61708ea92c",
   "metadata": {},
   "outputs": [
    {
     "data": {
      "text/plain": [
       "[<matplotlib.lines.Line2D at 0x11b2d0f10>]"
      ]
     },
     "execution_count": 42,
     "metadata": {},
     "output_type": "execute_result"
    },
    {
     "data": {
      "image/png": "[encoded data removed]",
      "text/plain": [
       "<Figure size 640x480 with 1 Axes>"
      ]
     },
     "metadata": {},
     "output_type": "display_data"
    }
   ],
   "source": [
    "import matplotlib.pyplot as plt\n",
    "\n",
    "plt.plot(puntos,f_puntos)"
   ]
  },
  {
   "cell_type": "code",
   "execution_count": null,
   "id": "856011e5-fefa-437f-ad61-918ab2c6f238",
   "metadata": {},
   "outputs": [],
   "source": []
  }
 ],
 "metadata": {
  "kernelspec": {
   "display_name": "Python 3 (ipykernel)",
   "language": "python",
   "name": "python3"
  },
  "language_info": {
   "codemirror_mode": {
    "name": "ipython",
    "version": 3
   },
   "file_extension": ".py",
   "mimetype": "text/x-python",
   "name": "python",
   "nbconvert_exporter": "python",
   "pygments_lexer": "ipython3",
   "version": "3.11.3"
  }
 },
 "nbformat": 4,
 "nbformat_minor": 5
}
