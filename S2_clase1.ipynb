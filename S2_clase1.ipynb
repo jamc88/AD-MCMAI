{
 "cells": [
  {
   "cell_type": "markdown",
   "id": "8206d971",
   "metadata": {},
   "source": [
    "# Clase 1 - Semana 2\n",
    "#### Tópicos Selectos De Matemáticas Aplicadas II: Análisis de Datos con Python"
   ]
  },
  {
   "cell_type": "markdown",
   "id": "bc48a0dd",
   "metadata": {},
   "source": [
    "### Diccionario"
   ]
  },
  {
   "cell_type": "markdown",
   "id": "415335f9",
   "metadata": {},
   "source": [
    "Un diccionario almacena una colección de pares clave-valor, donde la clave y el valor son objetos Python. Cada clave está asociada a un valor, de modo que dicho valor se pueda recuperar, insertar, modificar o borrar convenientemente dada una determinada clave."
   ]
  },
  {
   "cell_type": "markdown",
   "id": "435b844e",
   "metadata": {},
   "source": [
    "Una forma de crear un diccionario es utilizando llaves **\"{}\"** y signos de dos puntos **\":\"** para separar claves y valores:"
   ]
  },
  {
   "cell_type": "code",
   "execution_count": 1,
   "id": "85a436e2",
   "metadata": {},
   "outputs": [
    {
     "data": {
      "text/plain": [
       "{'a': 'algún valor', 'b': [1, 2, 3, 4]}"
      ]
     },
     "execution_count": 1,
     "metadata": {},
     "output_type": "execute_result"
    }
   ],
   "source": [
    "d1 = {'a': 'algún valor', 'b': [1, 2, 3, 4]}\n",
    "d1"
   ]
  },
  {
   "cell_type": "markdown",
   "id": "001515bb",
   "metadata": {},
   "source": [
    "Se puede acceder a los elementos, insertarlos o formar conjuntos con ellos utilizando la misma sintaxis que para acceder a los elementos de una lista:"
   ]
  },
  {
   "cell_type": "code",
   "execution_count": 2,
   "id": "81bc3329",
   "metadata": {},
   "outputs": [],
   "source": [
    "d1[7] = 'un entero' #añadir a diccionario"
   ]
  },
  {
   "cell_type": "code",
   "execution_count": 3,
   "id": "fc2aaac6",
   "metadata": {},
   "outputs": [
    {
     "data": {
      "text/plain": [
       "{'a': 'algún valor', 'b': [1, 2, 3, 4], 7: 'un entero'}"
      ]
     },
     "execution_count": 3,
     "metadata": {},
     "output_type": "execute_result"
    }
   ],
   "source": [
    "d1"
   ]
  },
  {
   "cell_type": "code",
   "execution_count": 4,
   "id": "51901e59",
   "metadata": {},
   "outputs": [
    {
     "data": {
      "text/plain": [
       "'algún valor'"
      ]
     },
     "execution_count": 4,
     "metadata": {},
     "output_type": "execute_result"
    }
   ],
   "source": [
    "d1['a'] #buscar con llave"
   ]
  },
  {
   "cell_type": "code",
   "execution_count": 5,
   "id": "9c63db91",
   "metadata": {},
   "outputs": [
    {
     "data": {
      "text/plain": [
       "True"
      ]
     },
     "execution_count": 5,
     "metadata": {},
     "output_type": "execute_result"
    }
   ],
   "source": [
    "'a' in d1"
   ]
  },
  {
   "cell_type": "code",
   "execution_count": null,
   "id": "127a7c25",
   "metadata": {},
   "outputs": [],
   "source": []
  },
  {
   "cell_type": "code",
   "execution_count": null,
   "id": "8e637f75",
   "metadata": {},
   "outputs": [],
   "source": []
  },
  {
   "cell_type": "markdown",
   "id": "65e3accf",
   "metadata": {},
   "source": [
    "El método **keys** y **values** proporciona iteradores de las claves y los valores del diccionario, respectivamente."
   ]
  },
  {
   "cell_type": "code",
   "execution_count": 6,
   "id": "cc0c3bb7",
   "metadata": {},
   "outputs": [
    {
     "data": {
      "text/plain": [
       "['a', 'b', 7]"
      ]
     },
     "execution_count": 6,
     "metadata": {},
     "output_type": "execute_result"
    }
   ],
   "source": [
    "list(d1.keys())"
   ]
  },
  {
   "cell_type": "code",
   "execution_count": 7,
   "id": "0e7df9d7",
   "metadata": {},
   "outputs": [
    {
     "data": {
      "text/plain": [
       "['algún valor', [1, 2, 3, 4], 'un entero']"
      ]
     },
     "execution_count": 7,
     "metadata": {},
     "output_type": "execute_result"
    }
   ],
   "source": [
    "list(d1.values())"
   ]
  },
  {
   "cell_type": "markdown",
   "id": "04670274",
   "metadata": {},
   "source": [
    "Se puede combinar un diccionario con otro con el método **update**:"
   ]
  },
  {
   "cell_type": "code",
   "execution_count": 8,
   "id": "90f23990",
   "metadata": {},
   "outputs": [],
   "source": [
    "d2={'z': 'azul', 'c': 12}"
   ]
  },
  {
   "cell_type": "code",
   "execution_count": 9,
   "id": "1474189d",
   "metadata": {},
   "outputs": [],
   "source": [
    "d1.update(d2)"
   ]
  },
  {
   "cell_type": "code",
   "execution_count": 10,
   "id": "3a004e5e",
   "metadata": {},
   "outputs": [
    {
     "data": {
      "text/plain": [
       "{'a': 'algún valor', 'b': [1, 2, 3, 4], 7: 'un entero', 'z': 'azul', 'c': 12}"
      ]
     },
     "execution_count": 10,
     "metadata": {},
     "output_type": "execute_result"
    }
   ],
   "source": [
    "d1"
   ]
  },
  {
   "cell_type": "code",
   "execution_count": null,
   "id": "2cf7f787",
   "metadata": {},
   "outputs": [],
   "source": []
  },
  {
   "cell_type": "code",
   "execution_count": null,
   "id": "68eb5932",
   "metadata": {},
   "outputs": [],
   "source": []
  },
  {
   "cell_type": "code",
   "execution_count": null,
   "id": "ce656880",
   "metadata": {},
   "outputs": [],
   "source": []
  },
  {
   "cell_type": "markdown",
   "id": "e490cfcd",
   "metadata": {},
   "source": [
    "# Funciones"
   ]
  },
  {
   "cell_type": "markdown",
   "id": "e768da5c",
   "metadata": {},
   "source": [
    "Las funciones son el método principal y más importante de Python para organizar y reutilizar código. Como regla general, si nos anticipamos a la necesidad de repetir el mismo código o uno muy parecido más de una vez, puede merecer la pena escribir una función que se pueda reutilizar."
   ]
  },
  {
   "cell_type": "markdown",
   "id": "54386eba",
   "metadata": {},
   "source": [
    "Las funciones se declaran con la palabra clave **def**. Una función\n",
    "contiene un bloque de código, con un uso opcional de la palabra clave **return**:"
   ]
  },
  {
   "cell_type": "code",
   "execution_count": 12,
   "id": "517e302a",
   "metadata": {},
   "outputs": [],
   "source": [
    "def sumar(a, b):\n",
    "    x = a+b\n",
    "    return x"
   ]
  },
  {
   "cell_type": "code",
   "execution_count": 17,
   "id": "b8d1a1e0",
   "metadata": {},
   "outputs": [
    {
     "data": {
      "text/plain": [
       "4558"
      ]
     },
     "execution_count": 17,
     "metadata": {},
     "output_type": "execute_result"
    }
   ],
   "source": [
    "sumar(4324,234)"
   ]
  },
  {
   "cell_type": "code",
   "execution_count": null,
   "id": "f5f2fae2",
   "metadata": {},
   "outputs": [],
   "source": []
  },
  {
   "cell_type": "code",
   "execution_count": null,
   "id": "8147726e",
   "metadata": {},
   "outputs": [],
   "source": []
  },
  {
   "cell_type": "markdown",
   "id": "aec7c694",
   "metadata": {},
   "source": [
    "Una función que resuelva ecuaciones de la forma $$ax+b=0$$"
   ]
  },
  {
   "cell_type": "code",
   "execution_count": 18,
   "id": "d80cbff1",
   "metadata": {},
   "outputs": [],
   "source": [
    "def sol(a,b):\n",
    "    if a>0 or a<0:\n",
    "        x=-b/a\n",
    "        return x\n",
    "    else: print('error')"
   ]
  },
  {
   "cell_type": "code",
   "execution_count": 19,
   "id": "019828a4",
   "metadata": {},
   "outputs": [
    {
     "name": "stdout",
     "output_type": "stream",
     "text": [
      "error\n"
     ]
    }
   ],
   "source": [
    "sol(0,5)"
   ]
  },
  {
   "cell_type": "code",
   "execution_count": null,
   "id": "ab643c87",
   "metadata": {},
   "outputs": [],
   "source": []
  },
  {
   "cell_type": "code",
   "execution_count": null,
   "id": "b11ed4e0",
   "metadata": {},
   "outputs": [],
   "source": []
  },
  {
   "cell_type": "markdown",
   "id": "46d28569",
   "metadata": {},
   "source": [
    "Si Python alcanza el final de una función sin encontrar una sentencia return, devuelve automáticamente None."
   ]
  },
  {
   "cell_type": "code",
   "execution_count": 20,
   "id": "0d4093a0",
   "metadata": {},
   "outputs": [],
   "source": [
    "def f1(x):\n",
    "    print(x)"
   ]
  },
  {
   "cell_type": "code",
   "execution_count": 21,
   "id": "e7e19c2f",
   "metadata": {},
   "outputs": [
    {
     "name": "stdout",
     "output_type": "stream",
     "text": [
      "azul\n",
      "None\n"
     ]
    }
   ],
   "source": [
    "print(f1('azul'))"
   ]
  },
  {
   "cell_type": "code",
   "execution_count": null,
   "id": "61fa8f35",
   "metadata": {},
   "outputs": [],
   "source": []
  },
  {
   "cell_type": "markdown",
   "id": "8f7e0f5a",
   "metadata": {},
   "source": [
    "Una función con un argumento opcional z que tiene el valor predeterminado "
   ]
  },
  {
   "cell_type": "code",
   "execution_count": 22,
   "id": "2c825b51",
   "metadata": {},
   "outputs": [],
   "source": [
    "def mi_func(x, y, z=2):     # z=1.5\n",
    "    if z > 1:\n",
    "        return z * (x + y)\n",
    "    else:\n",
    "        return z / (x + y)"
   ]
  },
  {
   "cell_type": "code",
   "execution_count": 25,
   "id": "03f09aef",
   "metadata": {},
   "outputs": [
    {
     "data": {
      "text/plain": [
       "10"
      ]
     },
     "execution_count": 25,
     "metadata": {},
     "output_type": "execute_result"
    }
   ],
   "source": [
    "mi_func(3,2)"
   ]
  },
  {
   "cell_type": "code",
   "execution_count": null,
   "id": "079b89f2",
   "metadata": {},
   "outputs": [],
   "source": []
  },
  {
   "cell_type": "code",
   "execution_count": null,
   "id": "96ae9473",
   "metadata": {},
   "outputs": [],
   "source": []
  },
  {
   "cell_type": "markdown",
   "id": "492c77af",
   "metadata": {},
   "source": [
    "Cualquier variable asignada dentro de una función está asignada  al espacio de nombres local."
   ]
  },
  {
   "cell_type": "code",
   "execution_count": 30,
   "id": "1a41d8e8",
   "metadata": {},
   "outputs": [],
   "source": [
    "h=2"
   ]
  },
  {
   "cell_type": "code",
   "execution_count": 27,
   "id": "6dd0ea16",
   "metadata": {},
   "outputs": [],
   "source": [
    "def func():\n",
    "    h = []\n",
    "    for i in range(5):\n",
    "        h.append(i)  "
   ]
  },
  {
   "cell_type": "code",
   "execution_count": 31,
   "id": "c563ed44",
   "metadata": {
    "jupyter": {
     "outputs_hidden": true
    }
   },
   "outputs": [
    {
     "data": {
      "text/plain": [
       "2"
      ]
     },
     "execution_count": 31,
     "metadata": {},
     "output_type": "execute_result"
    }
   ],
   "source": [
    "h"
   ]
  },
  {
   "cell_type": "code",
   "execution_count": null,
   "id": "b6cf202c",
   "metadata": {},
   "outputs": [],
   "source": []
  },
  {
   "cell_type": "code",
   "execution_count": 46,
   "id": "3a22f788",
   "metadata": {},
   "outputs": [],
   "source": [
    "func()"
   ]
  },
  {
   "cell_type": "code",
   "execution_count": 47,
   "id": "1ccef2de",
   "metadata": {},
   "outputs": [],
   "source": [
    "h=[]"
   ]
  },
  {
   "cell_type": "code",
   "execution_count": 48,
   "id": "3d03e080",
   "metadata": {},
   "outputs": [],
   "source": [
    "def func():\n",
    "    for i in range(5):\n",
    "        h.append(i)"
   ]
  },
  {
   "cell_type": "code",
   "execution_count": 49,
   "id": "02bc1a87",
   "metadata": {},
   "outputs": [
    {
     "data": {
      "text/plain": [
       "[]"
      ]
     },
     "execution_count": 49,
     "metadata": {},
     "output_type": "execute_result"
    }
   ],
   "source": [
    "h"
   ]
  },
  {
   "cell_type": "code",
   "execution_count": null,
   "id": "081f7297",
   "metadata": {},
   "outputs": [],
   "source": []
  },
  {
   "cell_type": "markdown",
   "id": "5fed9e4f",
   "metadata": {},
   "source": [
    "Cada llamada a 'func' modificará la lista a:"
   ]
  },
  {
   "cell_type": "code",
   "execution_count": 44,
   "id": "ec5a3e49",
   "metadata": {},
   "outputs": [
    {
     "data": {
      "text/plain": [
       "[0, 1, 2, 3, 4]"
      ]
     },
     "execution_count": 44,
     "metadata": {},
     "output_type": "execute_result"
    }
   ],
   "source": [
    "func()\n",
    "h"
   ]
  },
  {
   "cell_type": "code",
   "execution_count": 45,
   "id": "82ae48bf",
   "metadata": {},
   "outputs": [
    {
     "data": {
      "text/plain": [
       "[0, 1, 2, 3, 4, 0, 1, 2, 3, 4]"
      ]
     },
     "execution_count": 45,
     "metadata": {},
     "output_type": "execute_result"
    }
   ],
   "source": [
    "func()\n",
    "h"
   ]
  },
  {
   "cell_type": "code",
   "execution_count": null,
   "id": "b01de11e",
   "metadata": {},
   "outputs": [],
   "source": []
  },
  {
   "cell_type": "code",
   "execution_count": null,
   "id": "75f3001e",
   "metadata": {},
   "outputs": [],
   "source": []
  },
  {
   "cell_type": "markdown",
   "id": "dd83539e",
   "metadata": {},
   "source": [
    "Una **expresión regular** (o regex, por regular expression) es una secuencia de caracteres que define un patrón de búsqueda en cadenas de texto. Se usa para buscar, validar, reemplazar o dividir texto de forma eficiente y flexible."
   ]
  },
  {
   "cell_type": "code",
   "execution_count": 53,
   "id": "186c2d82",
   "metadata": {},
   "outputs": [],
   "source": [
    "capitales = ['#Ciudad Victo*ria', 'cuerna#vaca', 'Morelia!', 'xalapa', 'Tepic', 'hermos*illo',\n",
    " 'toluca?', 'San? Luis Potosí', ' *Mexicali', 'Villahermosa', 'Tuxtla Gutiérrez#',\n",
    " 'Colima', 'la Paz#', 'Guadalajara', 'C*ampeche!', 'Durango', 'Zacatecas',\n",
    " '!Chetumal', ' Ciudad# de México', 'chilpancingo*', ' Chihua#hua', '?Aguascalientes',\n",
    " 'Oaxaca de Juárez*', '?Puebla', 'Quer?étaro', 'Mérida', 'guanajuato',\n",
    " 'pachu*ca', '#Saltillo#', 'Culiacán!', 'Tlaxcala', 'monterrey']"
   ]
  },
  {
   "cell_type": "markdown",
   "id": "fc4dc78a",
   "metadata": {},
   "source": [
    "Una forma de limpiar la lista es utilizando métodos de cadena de texto internos junto con el módulo de librería estándar **re** para las expresiones regulares:"
   ]
  },
  {
   "cell_type": "code",
   "execution_count": 57,
   "id": "85d6acfc",
   "metadata": {},
   "outputs": [],
   "source": [
    "import re\n",
    "def limpiar_cadenas(strings):\n",
    "    result = []\n",
    "    for value in strings:\n",
    "        value = value.strip()  # suprime blancos u otro carácter especificado del final \n",
    "                               #o del principio de una expresión \n",
    "        value = re.sub('[!*#?]', '', value) #reemplaza todas las ocurrencias de un patrón \n",
    "                                           #por el texto que especifiquemos\n",
    "        value = value.title() #convierte la primera letra de cada palabra de una cadena \n",
    "                              # a mayúsculas.\n",
    "        result.append(value) \n",
    "    return result"
   ]
  },
  {
   "cell_type": "code",
   "execution_count": 58,
   "id": "782262ad",
   "metadata": {},
   "outputs": [],
   "source": [
    "capitales_limpias = limpiar_cadenas(capitales)\n",
    "\n",
    "capitales_limpias.sort()"
   ]
  },
  {
   "cell_type": "code",
   "execution_count": 59,
   "id": "a534a2da",
   "metadata": {},
   "outputs": [
    {
     "data": {
      "text/plain": [
       "['Aguascalientes',\n",
       " 'Campeche',\n",
       " 'Chetumal',\n",
       " 'Chihuahua',\n",
       " 'Chilpancingo',\n",
       " 'Ciudad De México',\n",
       " 'Ciudad Victoria',\n",
       " 'Colima',\n",
       " 'Cuernavaca',\n",
       " 'Culiacán',\n",
       " 'Durango',\n",
       " 'Guadalajara',\n",
       " 'Guanajuato',\n",
       " 'Hermosillo',\n",
       " 'La Paz',\n",
       " 'Mexicali',\n",
       " 'Monterrey',\n",
       " 'Morelia',\n",
       " 'Mérida',\n",
       " 'Oaxaca De Juárez',\n",
       " 'Pachuca',\n",
       " 'Puebla',\n",
       " 'Querétaro',\n",
       " 'Saltillo',\n",
       " 'San Luis Potosí',\n",
       " 'Tepic',\n",
       " 'Tlaxcala',\n",
       " 'Toluca',\n",
       " 'Tuxtla Gutiérrez',\n",
       " 'Villahermosa',\n",
       " 'Xalapa',\n",
       " 'Zacatecas']"
      ]
     },
     "execution_count": 59,
     "metadata": {},
     "output_type": "execute_result"
    }
   ],
   "source": [
    "capitales_limpias"
   ]
  },
  {
   "cell_type": "code",
   "execution_count": null,
   "id": "8407ae96-97e3-43ec-a2f5-5adc65ac6c77",
   "metadata": {},
   "outputs": [],
   "source": []
  },
  {
   "cell_type": "code",
   "execution_count": null,
   "id": "c892910d-7eb4-4afb-b062-72df538f8937",
   "metadata": {},
   "outputs": [],
   "source": []
  },
  {
   "cell_type": "code",
   "execution_count": null,
   "id": "f49c1124-db8b-4a90-ac86-0708022fed8e",
   "metadata": {},
   "outputs": [],
   "source": []
  },
  {
   "cell_type": "code",
   "execution_count": null,
   "id": "638c4c73-003b-4381-a533-83ca88c669be",
   "metadata": {},
   "outputs": [],
   "source": []
  },
  {
   "cell_type": "code",
   "execution_count": null,
   "id": "3fb20d24-d1f0-4e33-a283-da61743bcdc3",
   "metadata": {},
   "outputs": [],
   "source": []
  },
  {
   "cell_type": "code",
   "execution_count": null,
   "id": "69ec4db8-a60a-425c-bf44-64ad0a50a41a",
   "metadata": {},
   "outputs": [],
   "source": []
  },
  {
   "cell_type": "code",
   "execution_count": null,
   "id": "7da690c0-3343-4b1b-8bc7-4168705af6d6",
   "metadata": {},
   "outputs": [],
   "source": []
  },
  {
   "cell_type": "markdown",
   "id": "9a4a203b",
   "metadata": {},
   "source": [
    "Python soporta las denominadas funciones anónimas o **lambda**, una forma de escribir funciones que consisten en una única sentencia."
   ]
  },
  {
   "cell_type": "code",
   "execution_count": 60,
   "id": "18f14775",
   "metadata": {},
   "outputs": [],
   "source": [
    "def short_function(x):\n",
    "    return x ** 2"
   ]
  },
  {
   "cell_type": "code",
   "execution_count": 62,
   "id": "5371208a",
   "metadata": {},
   "outputs": [],
   "source": [
    "equiv = lambda x: x ** 2"
   ]
  },
  {
   "cell_type": "code",
   "execution_count": 66,
   "id": "41dd8354",
   "metadata": {},
   "outputs": [
    {
     "data": {
      "text/plain": [
       "119025"
      ]
     },
     "execution_count": 66,
     "metadata": {},
     "output_type": "execute_result"
    }
   ],
   "source": [
    "short_function(345)"
   ]
  },
  {
   "cell_type": "code",
   "execution_count": 65,
   "id": "15236ba6",
   "metadata": {},
   "outputs": [
    {
     "data": {
      "text/plain": [
       "119025"
      ]
     },
     "execution_count": 65,
     "metadata": {},
     "output_type": "execute_result"
    }
   ],
   "source": [
    "equiv(345)"
   ]
  },
  {
   "cell_type": "code",
   "execution_count": null,
   "id": "3bd32db9-47f1-47fb-9ed0-0c3255293fac",
   "metadata": {},
   "outputs": [],
   "source": []
  },
  {
   "cell_type": "code",
   "execution_count": null,
   "id": "b91fcbf0",
   "metadata": {},
   "outputs": [],
   "source": []
  },
  {
   "cell_type": "markdown",
   "id": "a25de6f7",
   "metadata": {},
   "source": [
    "## 📦 Paquete NumPy \n",
    "\n",
    "Una de las características fundamentales de **NumPy** es su objeto central: el **`ndarray`** (*n-dimensional array*), que representa una estructura de datos eficiente y versátil para almacenar y manipular arreglos de múltiples dimensiones.\n",
    "\n",
    "El objeto `ndarray` permite:\n",
    "\n",
    "- Representar grandes conjuntos de datos numéricos en forma de vectores, matrices o tensores.\n",
    "- Realizar operaciones matemáticas de manera **vectorizada**, es decir, **sin bucles explícitos**, lo que mejora notablemente el rendimiento.\n",
    "- Usar una **sintaxis concisa** y **similar a las operaciones escalares** (por ejemplo, suma, multiplicación, exponenciación), pero aplicadas a todos los elementos del arreglo.\n",
    "\n",
    "Esto hace que NumPy sea ideal para tareas de **cálculo científico, álgebra lineal, procesamiento de señales**, y como base para otras bibliotecas como **Pandas**, **SciPy**, **Scikit-learn**, entre otras.\n"
   ]
  },
  {
   "cell_type": "code",
   "execution_count": null,
   "id": "6c676567-bcbf-48ba-b143-ea400b9f84a7",
   "metadata": {},
   "outputs": [],
   "source": []
  },
  {
   "cell_type": "code",
   "execution_count": 67,
   "id": "59ce4f73",
   "metadata": {},
   "outputs": [],
   "source": [
    "import numpy as np"
   ]
  },
  {
   "cell_type": "markdown",
   "id": "ba3795f9-9668-4528-b46e-165528904aa9",
   "metadata": {},
   "source": [
    "La función **np.array()** convierte una lista (o lista de listas, o cualquier secuencia) en un objeto ndarray."
   ]
  },
  {
   "cell_type": "code",
   "execution_count": 69,
   "id": "17002e61",
   "metadata": {},
   "outputs": [],
   "source": [
    "datos = np.array([[1.5, -0.1, 3], [0, -3, 6.5]])"
   ]
  },
  {
   "cell_type": "code",
   "execution_count": 70,
   "id": "ec2ef8b6",
   "metadata": {},
   "outputs": [
    {
     "data": {
      "text/plain": [
       "array([[ 1.5, -0.1,  3. ],\n",
       "       [ 0. , -3. ,  6.5]])"
      ]
     },
     "execution_count": 70,
     "metadata": {},
     "output_type": "execute_result"
    }
   ],
   "source": [
    "datos"
   ]
  },
  {
   "cell_type": "code",
   "execution_count": null,
   "id": "d3431c6a-5bdd-4d3c-9882-0abde7db85dc",
   "metadata": {},
   "outputs": [],
   "source": []
  },
  {
   "cell_type": "code",
   "execution_count": null,
   "id": "9b4b9120-b259-4c5a-a433-09e30e37eac9",
   "metadata": {},
   "outputs": [],
   "source": []
  },
  {
   "cell_type": "markdown",
   "id": "0f4e9722-50b7-4350-8984-a137cc4ed85c",
   "metadata": {},
   "source": [
    "| Función                            | Descripción                                              | Ejemplo                            |\n",
    "|------------------------------------|----------------------------------------------------------|------------------------------------|\n",
    "| `np.array(obj)`                    | Convierte listas, tuplas u objetos similares en un `ndarray` | `np.array([1, 2, 3])`              |\n",
    "| `np.zeros(shape)`                  | Arreglo lleno de ceros                                   | `np.zeros((2, 3))`                 |\n",
    "| `np.ones(shape)`                   | Arreglo lleno de unos                                    | `np.ones(5)`                       |\n",
    "| `np.full(shape, fill_value)`       | Arreglo lleno con un valor específico                    | `np.full((3, 3), 7)`               |\n",
    "| `np.eye(N)`                        | Matriz identidad de tamaño `N × N`                       | `np.eye(4)`                        |\n",
    "| `np.arange(start, stop, step)`     | Arreglo con valores equiespaciados                      | `np.arange(0, 10, 2)`              |\n",
    "| `np.linspace(start, stop, num)`    | Arreglo con `num` valores equidistantes entre `start` y `stop` | `np.linspace(0, 1, 5)`        |\n",
    "| `np.random.rand(d0, d1, ...)`      | Arreglo con valores aleatorios uniformes en [0, 1)       | `np.random.rand(2, 4)`             |\n",
    "| `np.random.randn(d0, d1, ...)`     | Arreglo con valores de una distribución normal estándar  | `np.random.randn(3, 3)`            |\n",
    "| `np.empty(shape)`                  | Arreglo sin inicializar (contiene basura de memoria)     | `np.empty((2, 2))`                 |\n",
    "| `np.reshape(array, new_shape)`     | Cambia la forma de un `ndarray`                          | `np.reshape(np.arange(6), (2, 3))` |\n"
   ]
  },
  {
   "cell_type": "code",
   "execution_count": null,
   "id": "c5076665-27a4-4573-8e82-03ff617ca20b",
   "metadata": {},
   "outputs": [],
   "source": []
  },
  {
   "cell_type": "code",
   "execution_count": null,
   "id": "2c0d11c2-1686-41fe-87e8-e383c69efb0c",
   "metadata": {},
   "outputs": [],
   "source": []
  },
  {
   "cell_type": "code",
   "execution_count": 71,
   "id": "037c8df2-abe7-4e7a-bf85-b09191a83daf",
   "metadata": {},
   "outputs": [
    {
     "data": {
      "text/plain": [
       "array([[ 1.5, -0.1,  3. ],\n",
       "       [ 0. , -3. ,  6.5]])"
      ]
     },
     "execution_count": 71,
     "metadata": {},
     "output_type": "execute_result"
    }
   ],
   "source": [
    "datos"
   ]
  },
  {
   "cell_type": "code",
   "execution_count": 72,
   "id": "cb2ee326",
   "metadata": {},
   "outputs": [
    {
     "data": {
      "text/plain": [
       "array([[ 15.,  -1.,  30.],\n",
       "       [  0., -30.,  65.]])"
      ]
     },
     "execution_count": 72,
     "metadata": {},
     "output_type": "execute_result"
    }
   ],
   "source": [
    "datos*10"
   ]
  },
  {
   "cell_type": "code",
   "execution_count": 73,
   "id": "82f6d5dc",
   "metadata": {},
   "outputs": [
    {
     "data": {
      "text/plain": [
       "array([[ 3. , -0.2,  6. ],\n",
       "       [ 0. , -6. , 13. ]])"
      ]
     },
     "execution_count": 73,
     "metadata": {},
     "output_type": "execute_result"
    }
   ],
   "source": [
    "datos+datos"
   ]
  },
  {
   "cell_type": "code",
   "execution_count": 74,
   "id": "143ecfb8",
   "metadata": {},
   "outputs": [
    {
     "data": {
      "text/plain": [
       "(2, 3)"
      ]
     },
     "execution_count": 74,
     "metadata": {},
     "output_type": "execute_result"
    }
   ],
   "source": [
    "datos.shape # una tupla indica el tamaño de cada dimensión"
   ]
  },
  {
   "cell_type": "code",
   "execution_count": null,
   "id": "16bd134d-b4e1-4b7b-9c39-a11b3c3bccfe",
   "metadata": {},
   "outputs": [],
   "source": []
  },
  {
   "cell_type": "code",
   "execution_count": null,
   "id": "d0b83e10-d4c1-4136-87a1-17e329c6b79b",
   "metadata": {},
   "outputs": [],
   "source": []
  },
  {
   "cell_type": "markdown",
   "id": "dc40b484",
   "metadata": {},
   "source": [
    "Una lista de listas de la misma longitud, serán convertidas en un array multidimensional:"
   ]
  },
  {
   "cell_type": "code",
   "execution_count": 80,
   "id": "5fffcdb3",
   "metadata": {},
   "outputs": [],
   "source": [
    "datos2 = [[1, 2, 3, 4], [5.3, 62.3, 7, 8]]"
   ]
  },
  {
   "cell_type": "code",
   "execution_count": 81,
   "id": "a6a3421d",
   "metadata": {},
   "outputs": [],
   "source": [
    "arr2 = np.array(datos2)"
   ]
  },
  {
   "cell_type": "code",
   "execution_count": 82,
   "id": "d1a7d7e5",
   "metadata": {},
   "outputs": [
    {
     "data": {
      "text/plain": [
       "array([[ 1. ,  2. ,  3. ,  4. ],\n",
       "       [ 5.3, 62.3,  7. ,  8. ]])"
      ]
     },
     "execution_count": 82,
     "metadata": {},
     "output_type": "execute_result"
    }
   ],
   "source": [
    "arr2"
   ]
  },
  {
   "cell_type": "markdown",
   "id": "7395f7c0",
   "metadata": {},
   "source": [
    "Como datos2 era una lista de listas, el array NumPy arr2 tiene dos dimensiones"
   ]
  },
  {
   "cell_type": "code",
   "execution_count": 83,
   "id": "635bc6e0",
   "metadata": {},
   "outputs": [
    {
     "data": {
      "text/plain": [
       "2"
      ]
     },
     "execution_count": 83,
     "metadata": {},
     "output_type": "execute_result"
    }
   ],
   "source": [
    "arr2.ndim"
   ]
  },
  {
   "cell_type": "code",
   "execution_count": 84,
   "id": "976291fc",
   "metadata": {},
   "outputs": [
    {
     "data": {
      "text/plain": [
       "dtype('float64')"
      ]
     },
     "execution_count": 84,
     "metadata": {},
     "output_type": "execute_result"
    }
   ],
   "source": [
    "arr2.dtype"
   ]
  },
  {
   "cell_type": "code",
   "execution_count": null,
   "id": "9311e1ec-6f13-42c8-9626-51c0f68734d6",
   "metadata": {},
   "outputs": [],
   "source": []
  },
  {
   "cell_type": "code",
   "execution_count": null,
   "id": "0ba6422d-8b79-49ad-9637-50407add6580",
   "metadata": {},
   "outputs": [],
   "source": []
  },
  {
   "cell_type": "code",
   "execution_count": null,
   "id": "065f5c08-609e-486e-bc46-84ecbbd29453",
   "metadata": {},
   "outputs": [],
   "source": []
  },
  {
   "cell_type": "code",
   "execution_count": null,
   "id": "a6eb3f00-8c80-4cab-ad70-c8709e4387cb",
   "metadata": {},
   "outputs": [],
   "source": []
  },
  {
   "cell_type": "markdown",
   "id": "59975333",
   "metadata": {},
   "source": [
    "Otra función que nos permite crear un array NumPy es **numpy.arange**. Esta función genera un conjunto de números entre un valor de inicio y uno final, pudiendo especificar un incremento entre los valores."
   ]
  },
  {
   "cell_type": "code",
   "execution_count": 87,
   "id": "da175b65",
   "metadata": {},
   "outputs": [],
   "source": [
    "arr = np.arange(1,20,.05)"
   ]
  },
  {
   "cell_type": "code",
   "execution_count": 88,
   "id": "54fdde02",
   "metadata": {},
   "outputs": [
    {
     "data": {
      "text/plain": [
       "array([ 1.  ,  1.05,  1.1 ,  1.15,  1.2 ,  1.25,  1.3 ,  1.35,  1.4 ,\n",
       "        1.45,  1.5 ,  1.55,  1.6 ,  1.65,  1.7 ,  1.75,  1.8 ,  1.85,\n",
       "        1.9 ,  1.95,  2.  ,  2.05,  2.1 ,  2.15,  2.2 ,  2.25,  2.3 ,\n",
       "        2.35,  2.4 ,  2.45,  2.5 ,  2.55,  2.6 ,  2.65,  2.7 ,  2.75,\n",
       "        2.8 ,  2.85,  2.9 ,  2.95,  3.  ,  3.05,  3.1 ,  3.15,  3.2 ,\n",
       "        3.25,  3.3 ,  3.35,  3.4 ,  3.45,  3.5 ,  3.55,  3.6 ,  3.65,\n",
       "        3.7 ,  3.75,  3.8 ,  3.85,  3.9 ,  3.95,  4.  ,  4.05,  4.1 ,\n",
       "        4.15,  4.2 ,  4.25,  4.3 ,  4.35,  4.4 ,  4.45,  4.5 ,  4.55,\n",
       "        4.6 ,  4.65,  4.7 ,  4.75,  4.8 ,  4.85,  4.9 ,  4.95,  5.  ,\n",
       "        5.05,  5.1 ,  5.15,  5.2 ,  5.25,  5.3 ,  5.35,  5.4 ,  5.45,\n",
       "        5.5 ,  5.55,  5.6 ,  5.65,  5.7 ,  5.75,  5.8 ,  5.85,  5.9 ,\n",
       "        5.95,  6.  ,  6.05,  6.1 ,  6.15,  6.2 ,  6.25,  6.3 ,  6.35,\n",
       "        6.4 ,  6.45,  6.5 ,  6.55,  6.6 ,  6.65,  6.7 ,  6.75,  6.8 ,\n",
       "        6.85,  6.9 ,  6.95,  7.  ,  7.05,  7.1 ,  7.15,  7.2 ,  7.25,\n",
       "        7.3 ,  7.35,  7.4 ,  7.45,  7.5 ,  7.55,  7.6 ,  7.65,  7.7 ,\n",
       "        7.75,  7.8 ,  7.85,  7.9 ,  7.95,  8.  ,  8.05,  8.1 ,  8.15,\n",
       "        8.2 ,  8.25,  8.3 ,  8.35,  8.4 ,  8.45,  8.5 ,  8.55,  8.6 ,\n",
       "        8.65,  8.7 ,  8.75,  8.8 ,  8.85,  8.9 ,  8.95,  9.  ,  9.05,\n",
       "        9.1 ,  9.15,  9.2 ,  9.25,  9.3 ,  9.35,  9.4 ,  9.45,  9.5 ,\n",
       "        9.55,  9.6 ,  9.65,  9.7 ,  9.75,  9.8 ,  9.85,  9.9 ,  9.95,\n",
       "       10.  , 10.05, 10.1 , 10.15, 10.2 , 10.25, 10.3 , 10.35, 10.4 ,\n",
       "       10.45, 10.5 , 10.55, 10.6 , 10.65, 10.7 , 10.75, 10.8 , 10.85,\n",
       "       10.9 , 10.95, 11.  , 11.05, 11.1 , 11.15, 11.2 , 11.25, 11.3 ,\n",
       "       11.35, 11.4 , 11.45, 11.5 , 11.55, 11.6 , 11.65, 11.7 , 11.75,\n",
       "       11.8 , 11.85, 11.9 , 11.95, 12.  , 12.05, 12.1 , 12.15, 12.2 ,\n",
       "       12.25, 12.3 , 12.35, 12.4 , 12.45, 12.5 , 12.55, 12.6 , 12.65,\n",
       "       12.7 , 12.75, 12.8 , 12.85, 12.9 , 12.95, 13.  , 13.05, 13.1 ,\n",
       "       13.15, 13.2 , 13.25, 13.3 , 13.35, 13.4 , 13.45, 13.5 , 13.55,\n",
       "       13.6 , 13.65, 13.7 , 13.75, 13.8 , 13.85, 13.9 , 13.95, 14.  ,\n",
       "       14.05, 14.1 , 14.15, 14.2 , 14.25, 14.3 , 14.35, 14.4 , 14.45,\n",
       "       14.5 , 14.55, 14.6 , 14.65, 14.7 , 14.75, 14.8 , 14.85, 14.9 ,\n",
       "       14.95, 15.  , 15.05, 15.1 , 15.15, 15.2 , 15.25, 15.3 , 15.35,\n",
       "       15.4 , 15.45, 15.5 , 15.55, 15.6 , 15.65, 15.7 , 15.75, 15.8 ,\n",
       "       15.85, 15.9 , 15.95, 16.  , 16.05, 16.1 , 16.15, 16.2 , 16.25,\n",
       "       16.3 , 16.35, 16.4 , 16.45, 16.5 , 16.55, 16.6 , 16.65, 16.7 ,\n",
       "       16.75, 16.8 , 16.85, 16.9 , 16.95, 17.  , 17.05, 17.1 , 17.15,\n",
       "       17.2 , 17.25, 17.3 , 17.35, 17.4 , 17.45, 17.5 , 17.55, 17.6 ,\n",
       "       17.65, 17.7 , 17.75, 17.8 , 17.85, 17.9 , 17.95, 18.  , 18.05,\n",
       "       18.1 , 18.15, 18.2 , 18.25, 18.3 , 18.35, 18.4 , 18.45, 18.5 ,\n",
       "       18.55, 18.6 , 18.65, 18.7 , 18.75, 18.8 , 18.85, 18.9 , 18.95,\n",
       "       19.  , 19.05, 19.1 , 19.15, 19.2 , 19.25, 19.3 , 19.35, 19.4 ,\n",
       "       19.45, 19.5 , 19.55, 19.6 , 19.65, 19.7 , 19.75, 19.8 , 19.85,\n",
       "       19.9 , 19.95])"
      ]
     },
     "execution_count": 88,
     "metadata": {},
     "output_type": "execute_result"
    }
   ],
   "source": [
    "arr"
   ]
  },
  {
   "cell_type": "code",
   "execution_count": null,
   "id": "35e7ea3b-66f1-4183-a7a4-cce19b952e78",
   "metadata": {},
   "outputs": [],
   "source": []
  },
  {
   "cell_type": "code",
   "execution_count": null,
   "id": "87cce4b7-97f1-4d61-8c16-4078de375f42",
   "metadata": {},
   "outputs": [],
   "source": []
  },
  {
   "cell_type": "markdown",
   "id": "859e9e5e",
   "metadata": {},
   "source": [
    "Se puede convertir de forma explícita un array de un tipo de datos a otro utilizando el método astype de ndarray"
   ]
  },
  {
   "cell_type": "code",
   "execution_count": 89,
   "id": "c080c7ca",
   "metadata": {},
   "outputs": [],
   "source": [
    "arr = np.array([1, 2, 3, 4, 5])"
   ]
  },
  {
   "cell_type": "code",
   "execution_count": 90,
   "id": "6c55e07c",
   "metadata": {},
   "outputs": [
    {
     "data": {
      "text/plain": [
       "array([1, 2, 3, 4, 5])"
      ]
     },
     "execution_count": 90,
     "metadata": {},
     "output_type": "execute_result"
    }
   ],
   "source": [
    "arr"
   ]
  },
  {
   "cell_type": "code",
   "execution_count": 91,
   "id": "6c1a7351",
   "metadata": {},
   "outputs": [
    {
     "data": {
      "text/plain": [
       "dtype('int64')"
      ]
     },
     "execution_count": 91,
     "metadata": {},
     "output_type": "execute_result"
    }
   ],
   "source": [
    "arr.dtype"
   ]
  },
  {
   "cell_type": "code",
   "execution_count": 93,
   "id": "8c2bae29",
   "metadata": {},
   "outputs": [],
   "source": [
    "float_arr = arr.astype(np.float64)"
   ]
  },
  {
   "cell_type": "code",
   "execution_count": 94,
   "id": "c8e1cb9d",
   "metadata": {},
   "outputs": [
    {
     "data": {
      "text/plain": [
       "array([1., 2., 3., 4., 5.])"
      ]
     },
     "execution_count": 94,
     "metadata": {},
     "output_type": "execute_result"
    }
   ],
   "source": [
    "float_arr"
   ]
  },
  {
   "cell_type": "code",
   "execution_count": null,
   "id": "a96dbf3b-7c46-47f0-9c76-2444a909125d",
   "metadata": {},
   "outputs": [],
   "source": []
  },
  {
   "cell_type": "code",
   "execution_count": null,
   "id": "590bba43-962e-4e8d-a43b-4e09eb56013e",
   "metadata": {},
   "outputs": [],
   "source": []
  },
  {
   "cell_type": "markdown",
   "id": "5fad0cf7",
   "metadata": {},
   "source": [
    "Si se convierten números en punto flotante al tipo de datos entero, la parte decimal quedará truncada:"
   ]
  },
  {
   "cell_type": "code",
   "execution_count": 95,
   "id": "e0c9d52d",
   "metadata": {},
   "outputs": [],
   "source": [
    "arr = np.array([3.7, -1.2, -2.6, 0.5, 12.9, 10.1])"
   ]
  },
  {
   "cell_type": "code",
   "execution_count": 97,
   "id": "857de891",
   "metadata": {},
   "outputs": [
    {
     "data": {
      "text/plain": [
       "array([ 3, -1, -2,  0, 12, 10])"
      ]
     },
     "execution_count": 97,
     "metadata": {},
     "output_type": "execute_result"
    }
   ],
   "source": [
    "arr.astype(np.int64)"
   ]
  },
  {
   "cell_type": "code",
   "execution_count": null,
   "id": "9004d04c-481a-4fed-b7c3-f63014f8a256",
   "metadata": {},
   "outputs": [],
   "source": []
  },
  {
   "cell_type": "code",
   "execution_count": null,
   "id": "525a1b71-af97-4182-b43c-4938e7c4a757",
   "metadata": {},
   "outputs": [],
   "source": []
  },
  {
   "cell_type": "code",
   "execution_count": null,
   "id": "bda9aa5c-9770-494f-a9f8-c808958baa36",
   "metadata": {},
   "outputs": [],
   "source": []
  },
  {
   "cell_type": "markdown",
   "id": "2c2128b4",
   "metadata": {},
   "source": [
    "Si tenemos un array de cadenas de texto que representan números, se puede emplear astype para convertirlos a su forma numérica:"
   ]
  },
  {
   "cell_type": "code",
   "execution_count": 98,
   "id": "d43f3092",
   "metadata": {},
   "outputs": [],
   "source": [
    "numeric_strings = np.array(['1.25', '-9.6', '42.2'])"
   ]
  },
  {
   "cell_type": "code",
   "execution_count": 99,
   "id": "be95aa8a",
   "metadata": {},
   "outputs": [
    {
     "data": {
      "text/plain": [
       "array(['1.25', '-9.6', '42.2'], dtype='<U4')"
      ]
     },
     "execution_count": 99,
     "metadata": {},
     "output_type": "execute_result"
    }
   ],
   "source": [
    "numeric_strings"
   ]
  },
  {
   "cell_type": "code",
   "execution_count": 101,
   "id": "884e02f8",
   "metadata": {},
   "outputs": [
    {
     "data": {
      "text/plain": [
       "array([ 1.25, -9.6 , 42.2 ])"
      ]
     },
     "execution_count": 101,
     "metadata": {},
     "output_type": "execute_result"
    }
   ],
   "source": [
    "numeric_strings.astype(float)"
   ]
  },
  {
   "cell_type": "code",
   "execution_count": null,
   "id": "9484f2c5-84b0-4003-94a3-910c601a83ae",
   "metadata": {},
   "outputs": [],
   "source": []
  },
  {
   "cell_type": "code",
   "execution_count": null,
   "id": "642284d7",
   "metadata": {},
   "outputs": [],
   "source": []
  },
  {
   "cell_type": "markdown",
   "id": "b57a9960",
   "metadata": {},
   "source": [
    "## Aritmética con arrays"
   ]
  },
  {
   "cell_type": "markdown",
   "id": "59853d60",
   "metadata": {},
   "source": [
    "Los arrays son importantes porque permiten expresar operaciones en lotes con datos sin escribir bucles for. Los usuarios de NumPy llaman a esto vectorización."
   ]
  },
  {
   "cell_type": "code",
   "execution_count": 102,
   "id": "8a069325",
   "metadata": {},
   "outputs": [],
   "source": [
    "arr = np.array([[1., 2., 3.], [4., 5., 6.]])"
   ]
  },
  {
   "cell_type": "code",
   "execution_count": 105,
   "id": "9afb33d8",
   "metadata": {},
   "outputs": [
    {
     "data": {
      "text/plain": [
       "array([[1., 2., 3.],\n",
       "       [4., 5., 6.]])"
      ]
     },
     "execution_count": 105,
     "metadata": {},
     "output_type": "execute_result"
    }
   ],
   "source": [
    "arr"
   ]
  },
  {
   "cell_type": "code",
   "execution_count": 106,
   "id": "eb372f93",
   "metadata": {},
   "outputs": [
    {
     "data": {
      "text/plain": [
       "array([[ 1.,  4.,  9.],\n",
       "       [16., 25., 36.]])"
      ]
     },
     "execution_count": 106,
     "metadata": {},
     "output_type": "execute_result"
    }
   ],
   "source": [
    "arr*arr"
   ]
  },
  {
   "cell_type": "code",
   "execution_count": 107,
   "id": "6bc1c57a",
   "metadata": {},
   "outputs": [
    {
     "data": {
      "text/plain": [
       "array([[0., 0., 0.],\n",
       "       [0., 0., 0.]])"
      ]
     },
     "execution_count": 107,
     "metadata": {},
     "output_type": "execute_result"
    }
   ],
   "source": [
    "arr-arr"
   ]
  },
  {
   "cell_type": "code",
   "execution_count": 108,
   "id": "fface214",
   "metadata": {},
   "outputs": [
    {
     "data": {
      "text/plain": [
       "array([[1.        , 0.5       , 0.33333333],\n",
       "       [0.25      , 0.2       , 0.16666667]])"
      ]
     },
     "execution_count": 108,
     "metadata": {},
     "output_type": "execute_result"
    }
   ],
   "source": [
    "1/arr"
   ]
  },
  {
   "cell_type": "code",
   "execution_count": 109,
   "id": "0b452a2f",
   "metadata": {},
   "outputs": [
    {
     "data": {
      "text/plain": [
       "array([[ 1.,  4.,  9.],\n",
       "       [16., 25., 36.]])"
      ]
     },
     "execution_count": 109,
     "metadata": {},
     "output_type": "execute_result"
    }
   ],
   "source": [
    "arr**2"
   ]
  },
  {
   "cell_type": "code",
   "execution_count": 110,
   "id": "06eb4cbf-9130-43c6-9a74-03efa771d374",
   "metadata": {},
   "outputs": [
    {
     "data": {
      "text/plain": [
       "3.5"
      ]
     },
     "execution_count": 110,
     "metadata": {},
     "output_type": "execute_result"
    }
   ],
   "source": [
    "np.mean(arr)"
   ]
  },
  {
   "cell_type": "markdown",
   "id": "81f3c99f-6ae5-4110-b624-6f5c1457cbdb",
   "metadata": {},
   "source": [
    "## Funciones Comunes de NumPy Aplicadas a Arrays\n",
    "\n",
    "| Función NumPy             | Descripción                                                       | Ejemplo de uso                  | Devuelve                          |\n",
    "|---------------------------|-------------------------------------------------------------------|----------------------------------|------------------------------------|\n",
    "| `np.sum(a)`               | Suma todos los elementos del array                               | `np.sum([1,2,3])`                | `6`                                |\n",
    "| `np.mean(a)`              | Media aritmética                                                 | `np.mean([1,2,3])`               | `2.0`                              |\n",
    "| `np.std(a)`               | Desviación estándar                                              | `np.std([1,2,3])`                | `0.816...`                         |\n",
    "| `np.var(a)`               | Varianza                                                         | `np.var([1,2,3])`                | `0.666...`                         |\n",
    "| `np.min(a)`               | Valor mínimo                                                     | `np.min([3,1,2])`                | `1`                                |\n",
    "| `np.max(a)`               | Valor máximo                                                     | `np.max([3,1,2])`                | `3`                                |\n",
    "| `np.argmin(a)`            | Índice del valor mínimo                                          | `np.argmin([3,1,2])`             | `1`                                |\n",
    "| `np.argmax(a)`            | Índice del valor máximo                                          | `np.argmax([3,1,2])`             | `0`                                |\n",
    "| `np.cumsum(a)`            | Suma acumulativa                                                 | `np.cumsum([1,2,3])`             | `[1, 3, 6]`                         |\n",
    "| `np.diff(a)`              | Diferencias entre elementos consecutivos                         | `np.diff([1,4,9])`               | `[3, 5]`                            |\n",
    "| `np.sort(a)`              | Ordena los elementos del array                                   | `np.sort([3,1,2])`               | `[1, 2, 3]`                         |\n",
    "| `np.unique(a)`            | Devuelve valores únicos (sin duplicados)                         | `np.unique([1,2,2,3])`           | `[1, 2, 3]`                         |\n",
    "| `np.dot(a, b)`            | Producto escalar (o producto matricial si son matrices)          | `np.dot([1,2], [3,4])`           | `11`                               |\n",
    "| `np.matmul(a, b)`         | Producto matricial explícito                                     | `np.matmul(A, B)`                | matriz resultante                  |\n",
    "| `np.linalg.norm(a)`       | Norma (longitud) del vector                                      | `np.linalg.norm([3,4])`          | `5.0`                              |\n",
    "| `np.linalg.inv(A)`        | Matriz inversa (si existe)                                       | `np.linalg.inv(A)`               | `A⁻¹`                              |\n",
    "| `np.linalg.det(A)`        | Determinante de una matriz cuadrada                             | `np.linalg.det(A)`               | escalar                            |\n",
    "| `np.linalg.eig(A)`        | Autovalores y autovectores                                       | `vals, vecs = np.linalg.eig(A)`  | tupla `(valores, vectores)`       |\n",
    "| `np.transpose(A)` / `A.T` | Transpuesta de una matriz                                        | `A.T`                            | matriz transpuesta                 |\n",
    "| `np.reshape(a, newshape)` | Reestructura el array en otra forma compatible                  | `np.reshape([1,2,3,4], (2,2))`    | nueva matriz                       |\n",
    "| `np.concatenate([a,b])`   | Une arrays en una sola dimensión                                | `np.concatenate([[1,2],[3,4]])`  | `[1, 2, 3, 4]`                     |\n",
    "| `np.stack([a,b])`         | Apila arrays por una nueva dimensión                            | `np.stack([a,b], axis=0)`        | matriz 2D                          |\n"
   ]
  },
  {
   "cell_type": "code",
   "execution_count": 111,
   "id": "ce149372-5bea-4242-b1e6-097cc559b0fb",
   "metadata": {},
   "outputs": [],
   "source": [
    "u = np.array([1, 2, 3])\n",
    "v = np.array([4, 5, 6])"
   ]
  },
  {
   "cell_type": "code",
   "execution_count": null,
   "id": "14187d3f-e0e4-4bde-b8d4-c1f7fb04b9e5",
   "metadata": {},
   "outputs": [],
   "source": [
    "np.linalg.norm()"
   ]
  },
  {
   "cell_type": "code",
   "execution_count": null,
   "id": "5b2050e1-27e5-40c9-a813-6f4a418d6d5a",
   "metadata": {},
   "outputs": [],
   "source": [
    "np.dot()"
   ]
  },
  {
   "cell_type": "code",
   "execution_count": 113,
   "id": "475bd513",
   "metadata": {},
   "outputs": [
    {
     "data": {
      "text/plain": [
       "array([0.26726124, 0.53452248, 0.80178373])"
      ]
     },
     "execution_count": 113,
     "metadata": {},
     "output_type": "execute_result"
    }
   ],
   "source": [
    "u/np.linalg.norm(u)"
   ]
  },
  {
   "cell_type": "code",
   "execution_count": null,
   "id": "76c09d8c",
   "metadata": {},
   "outputs": [],
   "source": []
  },
  {
   "cell_type": "code",
   "execution_count": 112,
   "id": "bdb4ab3b-3751-4e74-9747-d08e001b2d48",
   "metadata": {},
   "outputs": [
    {
     "name": "stdout",
     "output_type": "stream",
     "text": [
      "Producto escalar (np.dot): 32\n",
      "Producto escalar (manual): 32\n"
     ]
    }
   ],
   "source": [
    "dot_np = np.dot(u, v)\n",
    "dot_manual = np.sum(u * v)\n",
    "\n",
    "print(\"Producto escalar (np.dot):\", dot_np)\n",
    "print(\"Producto escalar (manual):\", dot_manual)\n",
    "\n"
   ]
  },
  {
   "cell_type": "code",
   "execution_count": null,
   "id": "5978411e-6a94-4454-bbee-81448b3772b6",
   "metadata": {},
   "outputs": [],
   "source": []
  },
  {
   "cell_type": "code",
   "execution_count": null,
   "id": "1d6f26b8-3718-429f-872e-73b1d782688e",
   "metadata": {},
   "outputs": [],
   "source": []
  },
  {
   "cell_type": "markdown",
   "id": "4b11c4f1-59bb-4541-bbfd-5a7d636aebf8",
   "metadata": {},
   "source": [
    "## Tabla de Funciones Trigonométricas en NumPy\n",
    "\n",
    "| Función NumPy             | Descripción                             | Rango de entrada      | Resultado (en radianes)        |\n",
    "|---------------------------|-----------------------------------------|------------------------|--------------------------------|\n",
    "| `np.sin(x)`               | Seno de `x`                             | $\\mathbb{R}$  | $[-1, 1]$                 |\n",
    "| `np.cos(x)`               | Coseno de `x`                           | $\\mathbb{R}$  | $[-1, 1]$                 |\n",
    "| `np.tan(x)`               | Tangente de `x`                         | $x \\neq \\frac{\\pi}{2} + k\\pi$ | $\\mathbb{R}$           |\n",
    "| `np.arcsin(x)`            | Arcoseno (inverso del seno)             | $[-1, 1]$           | $[-\\frac{\\pi}{2}, \\frac{\\pi}{2}]$ |\n",
    "| `np.arccos(x)`            | Arcocoseno (inverso del coseno)         | $[-1, 1]$            | $[0, \\pi]$                  |\n",
    "| `np.arctan(x)`            | Arcotangente (inverso de tangente)      | $\\mathbb{R}$         | $(-\\frac{\\pi}{2}, \\frac{\\pi}{2})$ |\n",
    "| `np.degrees(x)`           | Convierte radianes a grados             | radianes               | grados                        |\n",
    "| `np.radians(x)`           | Convierte grados a radianes             | grados                 | radianes                      |\n",
    "| `np.sinh(x)`              | Seno hiperbólico                        | $\\mathbb{R}$  | $\\mathbb{R}$                |\n",
    "| `np.cosh(x)`              | Coseno hiperbólico                      | $\\mathbb{R}$  | $[1, \\infty)$               |\n",
    "| `np.tanh(x)`              | Tangente hiperbólica                    | $\\mathbb{R}$  | $(-1, 1)$                   |\n",
    "| `np.arcsinh(x)`           | Inverso de seno hiperbólico             | $\\mathbb{R}$         | $\\mathbb{R}$                |\n",
    "| `np.arccosh(x)`           | Inverso de coseno hiperbólico           | $[1, \\infty)$        | $[0, \\infty)$               |\n",
    "| `np.arctanh(x)`           | Inverso de tangente hiperbólica         | $(-1, 1)$            | $\\mathbb{R}$                |\n"
   ]
  },
  {
   "cell_type": "code",
   "execution_count": null,
   "id": "8bfede90-a511-4e12-a722-88555ce80191",
   "metadata": {},
   "outputs": [],
   "source": []
  },
  {
   "cell_type": "code",
   "execution_count": null,
   "id": "77f58e97-999e-4e7f-9051-30e461316f87",
   "metadata": {},
   "outputs": [],
   "source": []
  },
  {
   "cell_type": "markdown",
   "id": "8fef0286-6669-4780-8900-e293dd66e0a5",
   "metadata": {},
   "source": [
    "Sean los vectores $u=[3,4]$ y $v=[1,1]$.\n",
    "\n",
    "- Calcula la distancia euclidiana entre $u$ y $v$.\n",
    "\n",
    "- Normaliza ambos vectores."
   ]
  },
  {
   "cell_type": "code",
   "execution_count": null,
   "id": "3aeeeb5b-426c-4cb5-a077-45d2c81c9a40",
   "metadata": {},
   "outputs": [],
   "source": []
  },
  {
   "cell_type": "code",
   "execution_count": 114,
   "id": "c3c9c509-83f9-4cbf-a98b-040240268644",
   "metadata": {},
   "outputs": [
    {
     "name": "stdout",
     "output_type": "stream",
     "text": [
      "Norma de u: 5.0\n",
      "Norma de v: 1.4142135623730951\n",
      "Distancia entre u y v: 3.605551275463989\n",
      "u normalizado: [0.6 0.8]\n",
      "v normalizado: [0.70710678 0.70710678]\n"
     ]
    }
   ],
   "source": [
    "u = np.array([3, 4])\n",
    "v = np.array([1, 1])\n",
    "\n",
    "\n",
    "\n",
    "print(\"Norma de u:\", np.linalg.norm(u))\n",
    "print(\"Norma de v:\", np.linalg.norm(v))\n",
    "print(\"Distancia entre u y v:\", np.linalg.norm(u - v))\n",
    "print(\"u normalizado:\", u / np.linalg.norm(u))\n",
    "print(\"v normalizado:\", v / np.linalg.norm(v))"
   ]
  },
  {
   "cell_type": "code",
   "execution_count": null,
   "id": "435fba34-df05-4f2b-a8f5-9dee09134584",
   "metadata": {},
   "outputs": [],
   "source": []
  },
  {
   "cell_type": "code",
   "execution_count": null,
   "id": "40b7b5ae-7c45-4058-82d7-3d730f1f7116",
   "metadata": {},
   "outputs": [],
   "source": []
  },
  {
   "cell_type": "markdown",
   "id": "9526dc88-3b5c-4757-b317-739800e59491",
   "metadata": {},
   "source": [
    "Sean los vectores $u=[3,4]$ y $v=[−4,3]$.\n",
    "\n",
    "- Verifica si son ortogonales.\n",
    "\n",
    "- Calcula la norma de cada vector. \n",
    "\n",
    "- Calcula el ángulo entre ellos en grados. "
   ]
  },
  {
   "cell_type": "code",
   "execution_count": null,
   "id": "29d0fb0f-c4a5-4829-98b5-60b9d605be0b",
   "metadata": {},
   "outputs": [],
   "source": []
  },
  {
   "cell_type": "code",
   "execution_count": null,
   "id": "6446f225-b7fc-489b-8269-416f04d06808",
   "metadata": {},
   "outputs": [],
   "source": []
  },
  {
   "cell_type": "code",
   "execution_count": 115,
   "id": "b727703d-6115-4778-8f6f-bb8452b095f0",
   "metadata": {},
   "outputs": [],
   "source": [
    "u = np.array([3, 4])\n",
    "v = np.array([-4, 3])"
   ]
  },
  {
   "cell_type": "code",
   "execution_count": null,
   "id": "9c99ed62-aef8-4e13-b50b-56d48b5e4854",
   "metadata": {},
   "outputs": [],
   "source": []
  },
  {
   "cell_type": "code",
   "execution_count": 116,
   "id": "f2985077-0616-4d7f-a0a3-762323f40130",
   "metadata": {},
   "outputs": [
    {
     "name": "stdout",
     "output_type": "stream",
     "text": [
      "Producto punto: 0\n",
      "Norma de u: 5.0\n",
      "Norma de v: 5.0\n",
      "ángulo (radianes):  1.5707963267948966\n",
      "ángulo (grados):  90.0\n"
     ]
    }
   ],
   "source": [
    "dot = np.dot(u, v)\n",
    "norm_u = np.linalg.norm(u)\n",
    "norm_v = np.linalg.norm(v)\n",
    "cos_theta = dot / (norm_u * norm_v)\n",
    "\n",
    "print(\"Producto punto:\", dot)\n",
    "print(\"Norma de u:\", norm_u)\n",
    "print(\"Norma de v:\", norm_v)\n",
    "print(\"ángulo (radianes): \", np.arccos(cos_theta))\n",
    "print(\"ángulo (grados): \", np.degrees(np.arccos(cos_theta)))"
   ]
  },
  {
   "cell_type": "code",
   "execution_count": null,
   "id": "08c33270-3ae9-4b3a-b2c3-0698fd3e8b12",
   "metadata": {},
   "outputs": [],
   "source": []
  },
  {
   "cell_type": "code",
   "execution_count": null,
   "id": "6e84f661-9432-48b9-a542-e416ed96fa9d",
   "metadata": {},
   "outputs": [],
   "source": []
  },
  {
   "cell_type": "code",
   "execution_count": null,
   "id": "e1e6334a",
   "metadata": {},
   "outputs": [],
   "source": []
  }
 ],
 "metadata": {
  "kernelspec": {
   "display_name": "Python 3 (ipykernel)",
   "language": "python",
   "name": "python3"
  },
  "language_info": {
   "codemirror_mode": {
    "name": "ipython",
    "version": 3
   },
   "file_extension": ".py",
   "mimetype": "text/x-python",
   "name": "python",
   "nbconvert_exporter": "python",
   "pygments_lexer": "ipython3",
   "version": "3.11.3"
  }
 },
 "nbformat": 4,
 "nbformat_minor": 5
}
