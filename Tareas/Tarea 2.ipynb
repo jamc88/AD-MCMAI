{
 "cells": [
  {
   "cell_type": "markdown",
   "id": "a2e3cde1",
   "metadata": {},
   "source": [
    "# Tarea 2\n",
    "\n",
    "#### Tópicos Selectos De Matemáticas Aplicadas II: Análisis de Datos con Python\n",
    "\n",
    "Fecha de entrega: Domingo 15 de junio "
   ]
  },
  {
   "cell_type": "markdown",
   "id": "3d22614d",
   "metadata": {},
   "source": [
    "**1.** Dada la siguiente lista de vectores en $ \\mathbb{R}^3$:\n",
    "\n",
    "$$\n",
    "\\text{vectores} = \\left\\{ [0, 1, 0],\\ [1, 1, 0],\\ [1, 2, 3],\\ [-1, 0, 1],\\ [0, 0, 1],\\ [-1, 1, 0],\\ [2, 1, 1],\\ [3, 0.5, -1] \\right\\}\n",
    "$$\n",
    "\n",
    "escriba una función que calcule el **ángulo** que cada uno de estos vectores forma con respecto al vector fijo $ \\mathbf{a} = [1, 0, 0] $, y muestre únicamente aquellos vectores cuyo ángulo sea mayor a $ 80^\\circ $, junto con el valor correspondiente del ángulo (en grados).\n",
    "\n",
    "\n"
   ]
  },
  {
   "cell_type": "markdown",
   "id": "3c91749c",
   "metadata": {},
   "source": [
    "**2.** Sea la siguiente función definida por partes:\n",
    "\n",
    "$$\n",
    "f(x, y) =\n",
    "\\begin{cases}\n",
    "\\sin(x^2 + y^2), & \\text{si } x^2 + y^2 \\leq 4 \\\\\n",
    "\\cos(x - y), & \\text{si } 4 < x^2 + y^2 < 12  \\\\\n",
    "-1, & \\text{si }  \\geq 12 x^2 + y^2\n",
    "\\end{cases}\n",
    "$$\n",
    "\n",
    "Visualice la función en el dominio $ [-6, 6] \\times [-6, 6] $ utilizando `plt.imshow()`.\n"
   ]
  },
  {
   "cell_type": "markdown",
   "id": "5f99e244-ebbd-4cc5-907b-f0683471519d",
   "metadata": {},
   "source": [
    "**3.** Resuelva el siguiente sistema de ecuaciones lineales:\n",
    "\n",
    "$$\n",
    "\\begin{aligned}\n",
    "2x_1 - x_2 + 3x_3 + x_4 - x_5 &= 7 \\\\\n",
    "x_1 + 2x_2 - x_3 + 2x_4 + x_5 &= 4 \\\\\n",
    "3x_1 - x_2 + x_3 - x_4 + 2x_5 &= 10 \\\\\n",
    "x_1 + x_2 + x_3 + x_4 + x_5 &= 5 \\\\\n",
    "-2x_1 + 4x_2 + x_3 - 3x_4 + x_5 &= 0\n",
    "\\end{aligned}\n",
    "$$\n",
    "\n",
    "1. Resuelva el sistema.\n",
    "\n",
    "2. Verifique la solución sustituyéndola en la ecuación original y evaluando $ \\|A\\mathbf{x} - \\mathbf{b}\\| $.\n"
   ]
  },
  {
   "cell_type": "markdown",
   "id": "f083ac0e-d446-4108-91bf-405556ed51d8",
   "metadata": {},
   "source": [
    "**4.** Genera un array de 400 números aleatorios con distribución normal de media 10 y desviación estándar 2. \n",
    "\n",
    "- Calcula la media y desviación estándar de la muestra.\n",
    "\n",
    "- ¿Cuántos valores están entre 8 y 12?"
   ]
  },
  {
   "cell_type": "markdown",
   "id": "0304ca0e-12a6-4c86-bcb2-ecd378a413c8",
   "metadata": {},
   "source": [
    "**5.** Simula una muestra de 200 observaciones donde cada valor puede ser 'A', 'B' o 'C' con probabilidades 0.5, 0.3 y 0.2, respectivamente (np.random.choice). Cuenta cuántas veces ocurre cada categoría."
   ]
  },
  {
   "cell_type": "markdown",
   "id": "dfa19dca-7d9f-4c5f-9999-b180b4d09f9b",
   "metadata": {},
   "source": [
    "**6.** Genera una señal base (por ejemplo, todos 100) y agrégale ruido gaussiano con desviación 5.\n",
    "\n",
    "- Grafica la señal ruidosa.\n",
    "\n",
    "- Calcula el error medio cuadrático con respecto a la señal original:\n",
    "\n",
    "$$\n",
    "\\text{RMSE} = \\sqrt{ \\frac{1}{n} \\sum_{i=1}^n (y_i - \\hat{y}_i)^2 }\n",
    "$$\n",
    "\n",
    "Donde:\n",
    "- $ y_i $ son los valores de la señal base,\n",
    "- $ \\hat{y}_i $ son los valores de la señal ruidosa,\n",
    "- $ n $ es el número total de observaciones."
   ]
  },
  {
   "cell_type": "markdown",
   "id": "c875a428-b23d-45dd-9fe2-03162f0f70f2",
   "metadata": {},
   "source": [
    "**7.** Dada la siguiente lista:\n",
    "\n",
    "cadenas = [\n",
    "    '  juan*perez!!', 'ana#LOPEZ? ', 'm@rio@@gomez', 'luis* #MORA%%', 'carla!!méndóza ',\n",
    "    'PEDRO?ROSALES###', 'sofia*#cano ', 'miguel//torres', 'lucia #ramirez:', ' josé+fernández  ',\n",
    "    ' camila#RUIZ', 'marco*antonio&', 'isaBel!!GARZA', '#roberto flores* ', ' emiLIA?Reyes!',\n",
    "    'DANIEL* #Martinez', '  andrés#s@las', '*pablo TORO/', ' yeSEnIa!lópez ', 'elena#morales?',\n",
    "    'Nicolás*rodríguez', ' carmen?LUNA:', 'Rosa#*AVILA', 'oscar?*pineda;', 'alejandra!ríos+',\n",
    "    'IGNACIO#HERRERA  ', ' sergio*MENDOZA', 'tomás#ramírez=', 'ANDREA!MORENO?', '#manuel ortíz ',\n",
    "    'cristina*FLORES@', ' arturo#valdez;', 'LAURA*méndez', 'mariana?*ibarra!', ' esteban#quiroz ',\n",
    "    'valeria!CASTILLO', 'renata#DE la cruz', 'fernando*?Vega:', 'irma!ZAPATA%', 'francisco#romero ',\n",
    "    'alicia*Lara=', 'liliana#MENDEZ&', 'matías*#galván;', '#ricardo!Ríos', ' catalina*ALVARADO%',\n",
    "    'gustavo!morales+', 'natalia#VILLARREAL:', 'andréa*páez;', '  Ramón*salinas!', ' david#molina '\n",
    "]\n",
    "\n",
    "1. Limpie la lista 'cadenas'\n",
    "2. Obtenga 50 etiquetas con el código: `[f'id_{i:03}' for i in range(1, 51)]`\n",
    "3. Obtenga un objeto Series con la lista 'cadenas' indexado con las etiquetas obtenidas. \n"
   ]
  },
  {
   "cell_type": "code",
   "execution_count": null,
   "id": "23823eef-eab9-45b5-b724-d25d3c85812a",
   "metadata": {},
   "outputs": [],
   "source": []
  }
 ],
 "metadata": {
  "kernelspec": {
   "display_name": "Python 3 (ipykernel)",
   "language": "python",
   "name": "python3"
  },
  "language_info": {
   "codemirror_mode": {
    "name": "ipython",
    "version": 3
   },
   "file_extension": ".py",
   "mimetype": "text/x-python",
   "name": "python",
   "nbconvert_exporter": "python",
   "pygments_lexer": "ipython3",
   "version": "3.10.10"
  }
 },
 "nbformat": 4,
 "nbformat_minor": 5
}
