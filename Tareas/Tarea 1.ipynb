{
 "cells": [
  {
   "cell_type": "markdown",
   "id": "ec637b21",
   "metadata": {},
   "source": [
    "# Tarea 1\n",
    "\n",
    "#### Tópicos Selectos De Matemáticas Aplicadas II: Análisis de Datos con Python\n",
    "\n",
    "Fecha de entrega: Viernes 6 de junio "
   ]
  },
  {
   "cell_type": "markdown",
   "id": "5d0959e5",
   "metadata": {},
   "source": [
    "1. Crea un bucle para obtener el promedio de todos los elementos que se encuentran en las siguientes listas:"
   ]
  },
  {
   "cell_type": "code",
   "execution_count": 1,
   "id": "71ca6354",
   "metadata": {},
   "outputs": [],
   "source": [
    "L1=[7.2,7.8,6.8,8.0,None,'8.2',5.6,8.2,7.7,7.5,None,5.8]\n",
    "L2=['6.8',None,6.8,6.1,7.9,9.4,None]\n",
    "L3=[8.5,'9.0',None,7.7]"
   ]
  },
  {
   "cell_type": "markdown",
   "id": "350d0a6a",
   "metadata": {},
   "source": [
    "2. Crea un bucle que divida en 3 listas del mismo tamaño a los elementos de las listas anteriores ordenados de menor a mayor."
   ]
  },
  {
   "cell_type": "markdown",
   "id": "7562b33b",
   "metadata": {},
   "source": [
    "3. Crea una código que reciba del usuario nueve elementos de una matriz cuadrada de 3x3 y que retorne el determinante de la matriz."
   ]
  },
  {
   "cell_type": "markdown",
   "id": "b5a87269-0b3b-4ac4-911d-d4d7b8de8642",
   "metadata": {},
   "source": [
    "4. Crea un código que reciba una cadena de caracteres y arroje la respuesta de si es un estado ó una capital del país."
   ]
  },
  {
   "cell_type": "markdown",
   "id": "9888c165-5c0e-4114-8bfb-c632db32b2b4",
   "metadata": {},
   "source": [
    "5. Pide al usuario dos listas de números reales (misma longitud) y calcula su producto escalar usando un bucle for."
   ]
  },
  {
   "cell_type": "markdown",
   "id": "92861119-3d42-4fbd-9d33-d16ea96a26a7",
   "metadata": {},
   "source": [
    "6. Utiliza un bucle while True para pedir números al usuario y agregarlos a una lista. Cuando la suma total de los elementos sea mayor a 100, el programa debe detenerse y mostrar la lista y la suma final."
   ]
  },
  {
   "cell_type": "markdown",
   "id": "0563af40-1025-4976-a8ea-88dafac2a408",
   "metadata": {},
   "source": [
    "7. Crea una lista vacía y presenta al usuario un menú como este dentro de un while True:"
   ]
  },
  {
   "cell_type": "code",
   "execution_count": null,
   "id": "cbd657b6-42e5-466b-9921-8acff0b4e93f",
   "metadata": {},
   "outputs": [],
   "source": [
    "lista = []\n",
    "\n",
    "while True:\n",
    "    print(\"\\nMenú:\")\n",
    "    print(\"1. Agregar número\")\n",
    "    print(\"2. Mostrar lista\")\n",
    "    print(\"3. Salir\")\n",
    "    \n",
    "    opcion = input(\"Seleccione una opción: \")"
   ]
  },
  {
   "cell_type": "markdown",
   "id": "64558962-3a79-4e4c-9884-91dd63c6f538",
   "metadata": {},
   "source": [
    "El usuario debe poder ejecutar varias opciones hasta que elija salir."
   ]
  },
  {
   "cell_type": "code",
   "execution_count": null,
   "id": "0a67c10f-daee-4db0-880f-abf47a80d222",
   "metadata": {},
   "outputs": [],
   "source": []
  }
 ],
 "metadata": {
  "kernelspec": {
   "display_name": "Python 3 (ipykernel)",
   "language": "python",
   "name": "python3"
  },
  "language_info": {
   "codemirror_mode": {
    "name": "ipython",
    "version": 3
   },
   "file_extension": ".py",
   "mimetype": "text/x-python",
   "name": "python",
   "nbconvert_exporter": "python",
   "pygments_lexer": "ipython3",
   "version": "3.10.10"
  }
 },
 "nbformat": 4,
 "nbformat_minor": 5
}
