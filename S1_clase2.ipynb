{
 "cells": [
  {
   "cell_type": "markdown",
   "id": "12063674",
   "metadata": {},
   "source": [
    "# Clase 2 - Semana 1\n",
    "#### Tópicos Selectos De Matemáticas Aplicadas II: Análisis de Datos con Python"
   ]
  },
  {
   "cell_type": "markdown",
   "id": "a701073e",
   "metadata": {},
   "source": [
    "La función **input()** sirve para pedirle datos al usuario. Es una forma de interacción entre el programa y la persona que lo ejecuta."
   ]
  },
  {
   "cell_type": "code",
   "execution_count": 3,
   "id": "0aa787d8",
   "metadata": {},
   "outputs": [
    {
     "name": "stdout",
     "output_type": "stream",
     "text": [
      "Ingresa un número: 9\n",
      "El número es positivo\n"
     ]
    }
   ],
   "source": [
    "n = int(input(\"Ingresa un número: \"))\n",
    "\n",
    "if n > 0:\n",
    "    print(\"El número es positivo\")\n",
    "elif n < 0:\n",
    "    print(\"El número es negativo\")\n",
    "else:\n",
    "    print(\"El número es cero\")"
   ]
  },
  {
   "cell_type": "code",
   "execution_count": null,
   "id": "e08da2bd-ad79-492c-beed-c5cfa4b02aa4",
   "metadata": {},
   "outputs": [],
   "source": []
  },
  {
   "cell_type": "code",
   "execution_count": null,
   "id": "8ba9c39e-33fb-4fda-aaca-d39e01dd2657",
   "metadata": {},
   "outputs": [],
   "source": []
  },
  {
   "cell_type": "code",
   "execution_count": null,
   "id": "ad034d91-eeba-41cc-8ba3-8d7fa127ab28",
   "metadata": {},
   "outputs": [],
   "source": []
  },
  {
   "cell_type": "markdown",
   "id": "930b86d2-2f9a-44f1-ae32-4b8e2a02a914",
   "metadata": {},
   "source": [
    "**pass** es la sentencia «no operativa» (es decir, que no hace nada) de Python. Se puede utilizar en los bloques en los que no hay que realizar ninguna acción"
   ]
  },
  {
   "cell_type": "code",
   "execution_count": 4,
   "id": "a466cc3b-4ca6-484d-8484-21e21fe916a4",
   "metadata": {},
   "outputs": [],
   "source": [
    "x=0\n",
    "\n",
    "if x < 0:\n",
    "    print(\"negative\")\n",
    "elif x == 0:\n",
    "    pass\n",
    "else:\n",
    "    print(\"positive!\")"
   ]
  },
  {
   "cell_type": "code",
   "execution_count": null,
   "id": "2eb807f1-07d1-4853-90b0-5ac1f9c7ffa1",
   "metadata": {},
   "outputs": [],
   "source": []
  },
  {
   "cell_type": "code",
   "execution_count": null,
   "id": "0efbc6ec-06d8-4499-98b7-a10babcc06ee",
   "metadata": {},
   "outputs": [],
   "source": []
  },
  {
   "cell_type": "code",
   "execution_count": null,
   "id": "b1c54951-2503-4047-8462-763bda057e9d",
   "metadata": {},
   "outputs": [],
   "source": []
  },
  {
   "cell_type": "markdown",
   "id": "986d848c",
   "metadata": {},
   "source": [
    " Con una condición compuesta utilizando **and** o **or**, las condiciones se evalúan de izquierda a derecha "
   ]
  },
  {
   "cell_type": "code",
   "execution_count": 7,
   "id": "11952557",
   "metadata": {},
   "outputs": [],
   "source": [
    "a = 5; b = 7\n",
    "c = 1; d = 4"
   ]
  },
  {
   "cell_type": "code",
   "execution_count": 9,
   "id": "d6ab9768",
   "metadata": {},
   "outputs": [
    {
     "name": "stdout",
     "output_type": "stream",
     "text": [
      "Cierto\n"
     ]
    }
   ],
   "source": [
    "if a < b or d > c:\n",
    "    print('Cierto')"
   ]
  },
  {
   "cell_type": "code",
   "execution_count": null,
   "id": "8ba157c8",
   "metadata": {},
   "outputs": [],
   "source": []
  },
  {
   "cell_type": "markdown",
   "id": "70c28685",
   "metadata": {},
   "source": [
    "- Menos de 6,es NA \n",
    "- De 6 a menos de 7.6, es S \n",
    "- De 7.6 a menos de 8.6,es B \n",
    "- De 8.6 a 10, es MB"
   ]
  },
  {
   "cell_type": "code",
   "execution_count": null,
   "id": "f7dd4772",
   "metadata": {},
   "outputs": [],
   "source": []
  },
  {
   "cell_type": "code",
   "execution_count": null,
   "id": "52676f2d-b5fa-480c-814d-8e36d80c3455",
   "metadata": {},
   "outputs": [],
   "source": []
  },
  {
   "cell_type": "code",
   "execution_count": null,
   "id": "251f1bf5-871a-4d1a-b058-a8be3fabe35b",
   "metadata": {},
   "outputs": [],
   "source": []
  },
  {
   "cell_type": "code",
   "execution_count": 10,
   "id": "59f45176",
   "metadata": {},
   "outputs": [
    {
     "name": "stdout",
     "output_type": "stream",
     "text": [
      "Ingresa tu calificación (0-10):  8.7\n",
      "MB\n"
     ]
    }
   ],
   "source": [
    "# Calificación final\n",
    "\n",
    "cal = float(input(\"Ingresa tu calificación (0-10):  \"))\n",
    "\n",
    "if cal >= 8.6 and cal <= 10:\n",
    "    print(\"MB\")\n",
    "elif cal >= 7.6 and cal <= 8.5:\n",
    "    print(\"B\")\n",
    "elif cal >=6 and cal <= 7.5:\n",
    "    print(\"S\")\n",
    "else:\n",
    "    print(\"NA\")\n"
   ]
  },
  {
   "cell_type": "code",
   "execution_count": null,
   "id": "c7e24868-a4c8-4861-b65f-320a22aa4da6",
   "metadata": {},
   "outputs": [],
   "source": []
  },
  {
   "cell_type": "code",
   "execution_count": null,
   "id": "a0dea4c3-23d8-42b9-aa6b-0a318b393f16",
   "metadata": {},
   "outputs": [],
   "source": []
  },
  {
   "cell_type": "code",
   "execution_count": 4,
   "id": "2e9e9c2e",
   "metadata": {},
   "outputs": [
    {
     "name": "stdin",
     "output_type": "stream",
     "text": [
      "Ingresa el primer número:  3\n",
      "Ingresa el segundo número:  5\n",
      "Ingresa la operación (+, -, *, /):  3\n"
     ]
    },
    {
     "name": "stdout",
     "output_type": "stream",
     "text": [
      "Operación no válida\n"
     ]
    }
   ],
   "source": [
    "# Calculadora básica \n",
    "\n",
    "a = float(input(\"Ingresa el primer número: \"))\n",
    "b = float(input(\"Ingresa el segundo número: \"))\n",
    "op = input(\"Ingresa la operación (+, -, *, /): \")\n",
    "\n",
    "if op == \"+\":\n",
    "    print(\"Resultado:\", a + b)\n",
    "elif op == \"-\":\n",
    "    print(\"Resultado:\", a - b)\n",
    "elif op == \"*\":\n",
    "    print(\"Resultado:\", a * b)\n",
    "elif op == \"/\":\n",
    "    if b != 0:\n",
    "        print(\"Resultado:\", a / b)\n",
    "    else:\n",
    "        print(\"Error: división entre cero\")\n",
    "else:\n",
    "    print(\"Operación no válida\")"
   ]
  },
  {
   "cell_type": "code",
   "execution_count": null,
   "id": "ac1bea6a",
   "metadata": {},
   "outputs": [],
   "source": []
  },
  {
   "cell_type": "code",
   "execution_count": null,
   "id": "7396397f-99d8-4b89-ad69-e2ad7a7fdeef",
   "metadata": {},
   "outputs": [],
   "source": []
  },
  {
   "cell_type": "code",
   "execution_count": null,
   "id": "7536f05f",
   "metadata": {},
   "outputs": [],
   "source": []
  },
  {
   "cell_type": "markdown",
   "id": "fb001aed",
   "metadata": {},
   "source": [
    "# Bucles \n",
    "\n",
    "En Python, los bucles (o loops) se usan para ejecutar un bloque de código varias veces. "
   ]
  },
  {
   "cell_type": "markdown",
   "id": "d07f8a22",
   "metadata": {},
   "source": [
    "### Bucles for\n",
    "\n",
    "Los bucles **for** se utilizan para aplicar determinadas instrucciones a una colección (como una lista)."
   ]
  },
  {
   "cell_type": "code",
   "execution_count": 11,
   "id": "128a4a8f",
   "metadata": {},
   "outputs": [],
   "source": [
    "L = [1, 2, None, 4, None, 5]"
   ]
  },
  {
   "cell_type": "code",
   "execution_count": 12,
   "id": "540a31b3",
   "metadata": {},
   "outputs": [
    {
     "name": "stdout",
     "output_type": "stream",
     "text": [
      "1\n",
      "2\n",
      "None\n",
      "4\n",
      "None\n",
      "5\n"
     ]
    }
   ],
   "source": [
    "for i in L:\n",
    "    print(i)"
   ]
  },
  {
   "cell_type": "code",
   "execution_count": 13,
   "id": "e5c29a15-0fe2-426b-8518-b7f74ddb67f0",
   "metadata": {
    "collapsed": true,
    "jupyter": {
     "outputs_hidden": true
    }
   },
   "outputs": [
    {
     "ename": "TypeError",
     "evalue": "unsupported operand type(s) for +=: 'int' and 'NoneType'",
     "output_type": "error",
     "traceback": [
      "\u001b[0;31m---------------------------------------------------------------------------\u001b[0m",
      "\u001b[0;31mTypeError\u001b[0m                                 Traceback (most recent call last)",
      "Cell \u001b[0;32mIn[13], line 4\u001b[0m\n\u001b[1;32m      1\u001b[0m suma \u001b[38;5;241m=\u001b[39m \u001b[38;5;241m0\u001b[39m\n\u001b[1;32m      3\u001b[0m \u001b[38;5;28;01mfor\u001b[39;00m i \u001b[38;5;129;01min\u001b[39;00m L:\n\u001b[0;32m----> 4\u001b[0m     \u001b[43msuma\u001b[49m\u001b[43m \u001b[49m\u001b[38;5;241;43m+\u001b[39;49m\u001b[38;5;241;43m=\u001b[39;49m\u001b[43m \u001b[49m\u001b[43mi\u001b[49m   \u001b[38;5;66;03m# equivalente a: suma = suma + i\u001b[39;00m\n",
      "\u001b[0;31mTypeError\u001b[0m: unsupported operand type(s) for +=: 'int' and 'NoneType'"
     ]
    }
   ],
   "source": [
    "suma = 0\n",
    "\n",
    "for i in L:\n",
    "    suma += i   # equivalente a: suma = suma + i"
   ]
  },
  {
   "cell_type": "code",
   "execution_count": null,
   "id": "a0b053f2-cd73-40bf-9297-4dca3b8d1ac2",
   "metadata": {},
   "outputs": [],
   "source": []
  },
  {
   "cell_type": "markdown",
   "id": "1b4466ad",
   "metadata": {},
   "source": [
    "Se puede avanzar un bucle for a la siguiente repetición, saltando el resto del bloque, mediante la palabra clave **continue**."
   ]
  },
  {
   "cell_type": "code",
   "execution_count": 13,
   "id": "9ea85e0f",
   "metadata": {},
   "outputs": [],
   "source": [
    "suma = 0\n",
    "\n",
    "for i in L:\n",
    "    if i is None:continue\n",
    "    suma += i"
   ]
  },
  {
   "cell_type": "code",
   "execution_count": 14,
   "id": "cd2fd32a",
   "metadata": {},
   "outputs": [
    {
     "data": {
      "text/plain": [
       "12"
      ]
     },
     "execution_count": 14,
     "metadata": {},
     "output_type": "execute_result"
    }
   ],
   "source": [
    "suma"
   ]
  },
  {
   "cell_type": "code",
   "execution_count": null,
   "id": "cb3c65b2-a57b-46f9-9cd0-2f8a73f3b79c",
   "metadata": {},
   "outputs": [],
   "source": []
  },
  {
   "cell_type": "code",
   "execution_count": null,
   "id": "a9b5c849-b816-48b7-a6ac-043cfe9d4f03",
   "metadata": {},
   "outputs": [],
   "source": []
  },
  {
   "cell_type": "markdown",
   "id": "fcf83674",
   "metadata": {},
   "source": [
    "Un bucle for puede darse por terminado también con la palabra clave **break**."
   ]
  },
  {
   "cell_type": "code",
   "execution_count": 20,
   "id": "995f2b49",
   "metadata": {},
   "outputs": [
    {
     "data": {
      "text/plain": [
       "13"
      ]
     },
     "execution_count": 20,
     "metadata": {},
     "output_type": "execute_result"
    }
   ],
   "source": [
    "seq = [1, 2, 0, 4, 6, 5, 2, 1]\n",
    "    \n",
    "v = 0\n",
    "\n",
    "for i in seq:\n",
    "    if i == 5: break\n",
    "    v += i\n",
    "\n",
    "v"
   ]
  },
  {
   "cell_type": "code",
   "execution_count": null,
   "id": "efc91515",
   "metadata": {},
   "outputs": [],
   "source": []
  },
  {
   "cell_type": "code",
   "execution_count": null,
   "id": "9e630e2f",
   "metadata": {},
   "outputs": [],
   "source": []
  },
  {
   "cell_type": "markdown",
   "id": "f6bc7f22",
   "metadata": {},
   "source": [
    "La función **range** genera una secuencia de enteros espaciados por igual:"
   ]
  },
  {
   "cell_type": "code",
   "execution_count": 16,
   "id": "39d1039a",
   "metadata": {},
   "outputs": [
    {
     "data": {
      "text/plain": [
       "range(0, 20)"
      ]
     },
     "execution_count": 16,
     "metadata": {},
     "output_type": "execute_result"
    }
   ],
   "source": [
    "range(20)"
   ]
  },
  {
   "cell_type": "code",
   "execution_count": 17,
   "id": "22f5ca2f-1e9f-4d21-aa20-de1335f4e06a",
   "metadata": {},
   "outputs": [
    {
     "data": {
      "text/plain": [
       "[0, 1, 2, 3, 4, 5, 6, 7, 8, 9, 10, 11, 12, 13, 14, 15, 16, 17, 18, 19]"
      ]
     },
     "execution_count": 17,
     "metadata": {},
     "output_type": "execute_result"
    }
   ],
   "source": [
    "list(range(20))"
   ]
  },
  {
   "cell_type": "code",
   "execution_count": null,
   "id": "b13fe727-4c4c-4a32-b45b-76514c294da9",
   "metadata": {},
   "outputs": [],
   "source": []
  },
  {
   "cell_type": "markdown",
   "id": "3e1cd482",
   "metadata": {},
   "source": [
    "Se puede dar un inicio, un final y un paso o incremento (que puede ser negativo):"
   ]
  },
  {
   "cell_type": "code",
   "execution_count": 25,
   "id": "854bc82e",
   "metadata": {},
   "outputs": [
    {
     "data": {
      "text/plain": [
       "[0, 7, 14, 21, 28, 35, 42, 49, 56, 63, 70, 77, 84, 91, 98]"
      ]
     },
     "execution_count": 25,
     "metadata": {},
     "output_type": "execute_result"
    }
   ],
   "source": [
    "list(range(0, 100, 7))"
   ]
  },
  {
   "cell_type": "code",
   "execution_count": 26,
   "id": "31cbe2ca",
   "metadata": {},
   "outputs": [
    {
     "data": {
      "text/plain": [
       "[40, 35, 30, 25, 20, 15, 10, 5]"
      ]
     },
     "execution_count": 26,
     "metadata": {},
     "output_type": "execute_result"
    }
   ],
   "source": [
    "list(range(40, 0, -5))"
   ]
  },
  {
   "cell_type": "code",
   "execution_count": null,
   "id": "8bb91f88-429c-49eb-b98a-59ae99119799",
   "metadata": {},
   "outputs": [],
   "source": []
  },
  {
   "cell_type": "markdown",
   "id": "dc4d7459-1800-482f-b114-a6dc47f39e94",
   "metadata": {},
   "source": [
    "**range** produce enteros hasta el valor final pero sin incluirlo; se suele utilizar para aplicar instrucciones a distintas secuencias según un índice:"
   ]
  },
  {
   "cell_type": "code",
   "execution_count": 30,
   "id": "37ea0403-2528-497a-851c-af5033507b97",
   "metadata": {},
   "outputs": [
    {
     "name": "stdout",
     "output_type": "stream",
     "text": [
      "1\n",
      "4\n",
      "7\n",
      "23\n"
     ]
    }
   ],
   "source": [
    "seq = [1, 4, 7, 23]\n",
    "\n",
    "for i in range(len(seq)):\n",
    "    print(seq[i])"
   ]
  },
  {
   "cell_type": "code",
   "execution_count": 28,
   "id": "dc17a699-71b0-4057-a035-cf3317923264",
   "metadata": {},
   "outputs": [
    {
     "data": {
      "text/plain": [
       "4"
      ]
     },
     "execution_count": 28,
     "metadata": {},
     "output_type": "execute_result"
    }
   ],
   "source": [
    "len(seq) #tamaño de la lista"
   ]
  },
  {
   "cell_type": "code",
   "execution_count": 31,
   "id": "5f77d039-e5d7-4c81-8eed-5f7d39e117d5",
   "metadata": {},
   "outputs": [
    {
     "data": {
      "text/plain": [
       "500500.0"
      ]
     },
     "execution_count": 31,
     "metadata": {},
     "output_type": "execute_result"
    }
   ],
   "source": [
    "(1000*1001)/2"
   ]
  },
  {
   "cell_type": "code",
   "execution_count": null,
   "id": "48be958a-f55a-4743-aa8b-677a73e6a775",
   "metadata": {},
   "outputs": [],
   "source": []
  },
  {
   "cell_type": "code",
   "execution_count": 32,
   "id": "1a79a770",
   "metadata": {},
   "outputs": [
    {
     "data": {
      "text/plain": [
       "500500"
      ]
     },
     "execution_count": 32,
     "metadata": {},
     "output_type": "execute_result"
    }
   ],
   "source": [
    "# Suma de los primeros 1000 números\n",
    "\n",
    "suma = 0\n",
    "for i in range(1, 1001):\n",
    "    suma += i\n",
    "\n",
    "suma"
   ]
  },
  {
   "cell_type": "code",
   "execution_count": null,
   "id": "83a79b02-db34-416f-91f9-b30c449ed047",
   "metadata": {},
   "outputs": [],
   "source": []
  },
  {
   "cell_type": "code",
   "execution_count": null,
   "id": "9cc09e47-f97d-4ca2-ad18-29c63526f799",
   "metadata": {},
   "outputs": [],
   "source": []
  },
  {
   "cell_type": "code",
   "execution_count": 28,
   "id": "0f0cacd9-be69-47b6-b570-9ad4bbd0ac2d",
   "metadata": {},
   "outputs": [
    {
     "name": "stdout",
     "output_type": "stream",
     "text": [
      "multiplos de 5: 100\n"
     ]
    }
   ],
   "source": [
    "# cuantos multiplos de 5 existen de 1 a 500?\n",
    "\n",
    "contador = 0\n",
    "for i in range(1, 501):\n",
    "    if i % 5 == 0:\n",
    "        contador += 1\n",
    "\n",
    "print(\"multiplos de 5:\", contador)\n"
   ]
  },
  {
   "cell_type": "code",
   "execution_count": 33,
   "id": "bf3027f7-f993-4d25-9590-e89b51af00fd",
   "metadata": {},
   "outputs": [
    {
     "data": {
      "text/plain": [
       "333833500.0"
      ]
     },
     "execution_count": 33,
     "metadata": {},
     "output_type": "execute_result"
    }
   ],
   "source": [
    "(1000*1001*2001)/6"
   ]
  },
  {
   "cell_type": "code",
   "execution_count": null,
   "id": "2729801e-c4f2-4671-84bb-ce4b2d054037",
   "metadata": {},
   "outputs": [],
   "source": []
  },
  {
   "cell_type": "code",
   "execution_count": 1,
   "id": "919ba56f-c354-479d-8155-6648d5f73b7c",
   "metadata": {},
   "outputs": [],
   "source": [
    "# Suma de los primeros 1000 números al cuadrado\n",
    "\n",
    "L=[]\n",
    "\n",
    "for i in range(1, 1001):\n",
    "    L.append(i**2)"
   ]
  },
  {
   "cell_type": "code",
   "execution_count": 2,
   "id": "76242c4a-d9ee-4385-bbac-45c66c89f73c",
   "metadata": {},
   "outputs": [
    {
     "data": {
      "text/plain": [
       "333833500"
      ]
     },
     "execution_count": 2,
     "metadata": {},
     "output_type": "execute_result"
    }
   ],
   "source": [
    "sum(L)"
   ]
  },
  {
   "cell_type": "code",
   "execution_count": null,
   "id": "af801d51-55de-4dac-b279-724f8f4e828c",
   "metadata": {},
   "outputs": [],
   "source": []
  },
  {
   "cell_type": "code",
   "execution_count": null,
   "id": "722fb533-6d20-45b4-8bba-b4770dc78f63",
   "metadata": {},
   "outputs": [],
   "source": []
  },
  {
   "cell_type": "code",
   "execution_count": null,
   "id": "36ec7328",
   "metadata": {},
   "outputs": [],
   "source": []
  }
 ],
 "metadata": {
  "kernelspec": {
   "display_name": "Python 3 (ipykernel)",
   "language": "python",
   "name": "python3"
  },
  "language_info": {
   "codemirror_mode": {
    "name": "ipython",
    "version": 3
   },
   "file_extension": ".py",
   "mimetype": "text/x-python",
   "name": "python",
   "nbconvert_exporter": "python",
   "pygments_lexer": "ipython3",
   "version": "3.10.10"
  }
 },
 "nbformat": 4,
 "nbformat_minor": 5
}
